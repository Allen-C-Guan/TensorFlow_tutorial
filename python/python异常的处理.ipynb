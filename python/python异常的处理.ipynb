{
 "cells": [
  {
   "cell_type": "markdown",
   "metadata": {},
   "source": [
    "## 自定义python的异常处理"
   ]
  },
  {
   "cell_type": "markdown",
   "metadata": {},
   "source": [
    "## try-except-else-finially\n",
    "本质上是一种自定义处理error的方法。如果你不写，系统会默认的给出error。\\\n",
    "try：下面的内容会被执行到error发生为止。接下来会执行except的内容。\\\n",
    "except: except的执行逻辑和switch-case一样，寻找到一样的error，然后进行处理error\\\n",
    "else：是在try没有任何error发生的时候才执行。同时else还有助于判定try中的内容是否被执行完毕了\\\n",
    "finially：是无论如何一定要执行的！\n"
   ]
  },
  {
   "cell_type": "code",
   "execution_count": 1,
   "metadata": {},
   "outputs": [
    {
     "name": "stdout",
     "output_type": "stream",
     "text": [
      "error\n",
      "done\n"
     ]
    }
   ],
   "source": [
    "try:\n",
    "    adfaf\n",
    "except:\n",
    "    print(\"error\")\n",
    "else:\n",
    "    print(\"all good\")\n",
    "finally:\n",
    "    print(\"done\")"
   ]
  },
  {
   "cell_type": "markdown",
   "metadata": {},
   "source": [
    "except如果后面不加条件，就是任何error都可以用这个except去处理。\\\n",
    "而且当except没有输出的时候，如果没有else，你不知道try下面的内容有没有执行完毕"
   ]
  },
  {
   "cell_type": "code",
   "execution_count": 11,
   "metadata": {},
   "outputs": [
    {
     "name": "stdout",
     "output_type": "stream",
     "text": [
      "try\n",
      "\n",
      "there are name Error happend\n",
      "\n",
      "done\n"
     ]
    }
   ],
   "source": [
    "\n",
    "try:\n",
    "    print(\"try\\n\")\n",
    "    fasdfasf\n",
    "    print(\"continuous\")\n",
    "\n",
    "except NameError:\n",
    "    \n",
    "    print(\"there are name Error happend\\n\")\n",
    "\n",
    "except SyntaxError:\n",
    "    \n",
    "    print(\"error! althought I do not know why\\n\")\n",
    "    \n",
    "else:\n",
    "    print(\"no error! happy\")\n",
    "    \n",
    "finally:\n",
    "    \n",
    "    print(\"done\")"
   ]
  },
  {
   "cell_type": "markdown",
   "metadata": {},
   "source": [
    "即使上面有error系统也没有报错，因为你已经自定义了处理error的方式了。系统就不报错了。"
   ]
  },
  {
   "cell_type": "code",
   "execution_count": null,
   "metadata": {},
   "outputs": [],
   "source": [
    "while True:\n",
    "    try:\n",
    "        #x = input(\"Please enter a number: \")\n",
    "        x = int(input(\"Please enter a number: \"))#int和input一起用可以判定\n",
    "        break\n",
    "    except ValueError:\n",
    "        print(\"Oops!  That was no valid number.  Try again...\")"
   ]
  },
  {
   "cell_type": "markdown",
   "metadata": {},
   "source": [
    "## raise 的作用\n",
    "raise的功能在于强制抛出一个error。\\\n",
    "当raise和try一起使用的时候，可以起到switch的作用，raise给出error种类，except中对应种类的内容会被执行下去。"
   ]
  },
  {
   "cell_type": "code",
   "execution_count": 27,
   "metadata": {},
   "outputs": [
    {
     "name": "stdout",
     "output_type": "stream",
     "text": [
      "An exception flew by!\n"
     ]
    }
   ],
   "source": [
    "try:\n",
    "    raise NameError('hi here')\n",
    "    print(\"continuous\")\n",
    "except NameError:\n",
    "    print('An exception flew by!')\n",
    "    #raise\n",
    "except:        #except后面什么都不加表示照单全收。\n",
    "    print(\"other error\")\n"
   ]
  },
  {
   "cell_type": "markdown",
   "metadata": {},
   "source": [
    "## assert的作用\n",
    "功能：如果判定assert后的表达式不成立，那么就抛出一个AssertionError。\\\n",
    "逻辑：如果后面式子不成立， 那你也不用继续往下算了，算也是错的。"
   ]
  },
  {
   "cell_type": "markdown",
   "metadata": {},
   "source": [
    "assert expression\\\n",
    "等效于\n",
    "\n",
    "if not expression:\n",
    "\n",
    "    raise AssertionError"
   ]
  },
  {
   "cell_type": "code",
   "execution_count": 34,
   "metadata": {},
   "outputs": [
    {
     "ename": "AssertionError",
     "evalue": "",
     "output_type": "error",
     "traceback": [
      "\u001b[0;31m---------------------------------------------------------------------------\u001b[0m",
      "\u001b[0;31mAssertionError\u001b[0m                            Traceback (most recent call last)",
      "\u001b[0;32m<ipython-input-34-efb7a9aa77b1>\u001b[0m in \u001b[0;36m<module>\u001b[0;34m\u001b[0m\n\u001b[1;32m      1\u001b[0m \u001b[0ma_str\u001b[0m \u001b[0;34m=\u001b[0m \u001b[0;34m\"this is an string\"\u001b[0m\u001b[0;34m\u001b[0m\u001b[0;34m\u001b[0m\u001b[0m\n\u001b[0;32m----> 2\u001b[0;31m \u001b[0;32massert\u001b[0m \u001b[0mtype\u001b[0m\u001b[0;34m(\u001b[0m\u001b[0ma_str\u001b[0m\u001b[0;34m)\u001b[0m \u001b[0;34m==\u001b[0m \u001b[0mint\u001b[0m\u001b[0;34m\u001b[0m\u001b[0;34m\u001b[0m\u001b[0m\n\u001b[0m",
      "\u001b[0;31mAssertionError\u001b[0m: "
     ]
    }
   ],
   "source": [
    "a_str = \"this is an string\"\n",
    "assert type(a_str) == int"
   ]
  },
  {
   "cell_type": "markdown",
   "metadata": {},
   "source": [
    "当 str!=int的时候，我们就直接抛出error，表示这个地方开始就不对了。不要继续运行了。\\\n",
    "例如你在计算日期的时候，这时候你算出来日期大于31了都，你就不要算了，即使还能继续算，你得到的一定是错的。"
   ]
  },
  {
   "cell_type": "code",
   "execution_count": null,
   "metadata": {},
   "outputs": [],
   "source": []
  }
 ],
 "metadata": {
  "kernelspec": {
   "display_name": "Python 3",
   "language": "python",
   "name": "python3"
  },
  "language_info": {
   "codemirror_mode": {
    "name": "ipython",
    "version": 3
   },
   "file_extension": ".py",
   "mimetype": "text/x-python",
   "name": "python",
   "nbconvert_exporter": "python",
   "pygments_lexer": "ipython3",
   "version": "3.7.3"
  }
 },
 "nbformat": 4,
 "nbformat_minor": 2
}
