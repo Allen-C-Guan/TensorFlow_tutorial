{
 "cells": [
  {
   "cell_type": "markdown",
   "metadata": {},
   "source": [
    "# 迭代器\n",
    "迭代器是什么？迭代器可以进行迭代操作。\\\n",
    "迭代器虽然和list 等一样可以被迭代，但不同的是迭代器并不是同时把所有内容都加载到内存中，然后从内存中一个一个的取出。迭代器每次只加载一个迭代的内容在内存中，直到再被调用的时候（next），才会把下个批次加载到内存中，"
   ]
  },
  {
   "cell_type": "markdown",
   "metadata": {},
   "source": [
    "## 通过__iter__实现函数迭代\n",
    "iter提供了一种在让class在迭代中自动调用__next__()的方法。\\\n",
    "逻辑：\\\n",
    "当你实例化一个迭代器的时候，你是调用了iter()函数创建了一个迭代实例，此时并没有执行任何语句，只是把迭代器加载到内存。\n",
    "\n",
    "当该实例被迭代的时候，该实例会自动执行__next__() 函数。\n",
    "\n",
    "而next()的函数的特殊之处在于，next()函数中的内容以每次注入内存一批，而后每迭代一次，函数会记录迭代的位置，下次在被迭代的时候，会接着执行。\n",
    "\n",
    "迭代器的停止是通过StopIteration()来实现的。"
   ]
  },
  {
   "cell_type": "code",
   "execution_count": 1,
   "metadata": {},
   "outputs": [],
   "source": [
    "class Fib:\n",
    "    \n",
    "    ##init函数用于建立实例变量\n",
    "    def __init__(self, n):\n",
    "        self.prev = 0\n",
    "        self.cur = 1\n",
    "        self.n = n\n",
    "        \n",
    "    \n",
    "    ##iter在被调用的时候，返回的是他本身！！！！！！ 迭代器本身，不是执行某个值    \n",
    "    def __iter__(self):\n",
    "        return self\n",
    "    ##只有在进行迭代的时候，才会执行next。\n",
    "    def __next__(self):\n",
    "        if self.n > 0:\n",
    "            value = self.cur\n",
    "            self.cur =self.cur+self.prev\n",
    "            self.prev =value\n",
    "            self.n-=1\n",
    "            return value\n",
    "        else:\n",
    "            raise StopIteration()\n",
    "            \n",
    "\n",
    "        "
   ]
  },
  {
   "cell_type": "code",
   "execution_count": 2,
   "metadata": {},
   "outputs": [
    {
     "data": {
      "text/plain": [
       "[1, 1, 2, 3, 5]"
      ]
     },
     "execution_count": 2,
     "metadata": {},
     "output_type": "execute_result"
    }
   ],
   "source": [
    "f = Fib(5)\n",
    "[i for i in f]"
   ]
  },
  {
   "cell_type": "markdown",
   "metadata": {},
   "source": [
    "## 只用__next__()来实现迭代\n",
    "所有包含__next__()的class，本身就是一个迭代器，即使没有iter()函数，而__next__()完成的内容不过就是运行代码，并记录运行位置而已。\n",
    "\n",
    "如果我们没有定义iter()，我们需要实例化迭代器之后，不断的调用__next__()函数来完成迭代。\n",
    "\n",
    "因此可以得出结论，__iter__()函数的作用在于实例化迭代器之后，在调用的时候可以省略next()函数的书写，而自动调取next()函数了。"
   ]
  },
  {
   "cell_type": "code",
   "execution_count": 12,
   "metadata": {},
   "outputs": [],
   "source": [
    "class Fib:\n",
    "    \n",
    "    ##init函数用于建立实例变量\n",
    "    def __init__(self, n):\n",
    "        self.prev = 0\n",
    "        self.cur = 1\n",
    "        self.n = n\n",
    "         \n",
    "    ##只有在进行迭代的时候，才会执行next。\n",
    "    def __next__(self):\n",
    "        if self.n > 0:\n",
    "            value = self.cur\n",
    "            self.cur =self.cur+self.prev\n",
    "            self.prev =value\n",
    "            self.n-=1\n",
    "            return value\n",
    "        else:\n",
    "            raise StopIteration()\n",
    "            "
   ]
  },
  {
   "cell_type": "code",
   "execution_count": 13,
   "metadata": {},
   "outputs": [
    {
     "data": {
      "text/plain": [
       "[1, 1, 1]"
      ]
     },
     "execution_count": 13,
     "metadata": {},
     "output_type": "execute_result"
    }
   ],
   "source": [
    "[Fib(4).__next__() for i in range(3)]"
   ]
  },
  {
   "cell_type": "markdown",
   "metadata": {},
   "source": [
    "这个例子很明显的证明了class的实例化的作用，如果你不先实例化，那在迭代的过程中，会不断的重新实例化（建立新的python 实例），而不是对某个固定的实例进行不断的迭代"
   ]
  },
  {
   "cell_type": "code",
   "execution_count": 18,
   "metadata": {},
   "outputs": [
    {
     "data": {
      "text/plain": [
       "[1, 1, 2, 3, 5]"
      ]
     },
     "execution_count": 18,
     "metadata": {},
     "output_type": "execute_result"
    }
   ],
   "source": [
    "f2 = Fib(5)\n",
    "[f2.__next__() for i in range(5)]"
   ]
  },
  {
   "cell_type": "code",
   "execution_count": 15,
   "metadata": {},
   "outputs": [
    {
     "name": "stdout",
     "output_type": "stream",
     "text": [
      "1\n",
      "1\n",
      "2\n",
      "3\n",
      "5\n"
     ]
    }
   ],
   "source": [
    "f2 = Fib(5)\n",
    "for i in range(5):\n",
    "    print(f2.__next__())"
   ]
  },
  {
   "cell_type": "markdown",
   "metadata": {},
   "source": [
    "我们只需要不断的调用__next__()函数，也可以完成iter函数完成的任务"
   ]
  },
  {
   "cell_type": "markdown",
   "metadata": {},
   "source": [
    "## yield\n",
    "上面，我们利用定义next()和iter()函数，实现了迭代器的功能，可以把迭代器的实现总结如下：\n",
    "1. 建立迭代class（通过定义iter和next）\n",
    "2. 实例化class（调用iter函数，产生一个迭代器，并不执行代码）\n",
    "3. 完成迭代（迭代调用next函数，执行迭代函数next())\n",
    "\n",
    "可是这种方法还需要定义一个类，有时候是不是有点蠢，我只需要一个简单的迭代器函数，你却让我定义一个类啊。于是yield就登场了。\n",
    "\n",
    "我们可以利用yield来让函数本身就是一个可实例化的迭代器。其功能如下：\n",
    "1. 定义函数，另返回值以yield返回，而不是return\n",
    "2. 实例化函数，该函数和其他函数不同的是，函数可以被实例化，并且实例化后的函数会产生一个迭代器。\n",
    "3. 迭代。在迭代的过程中，不断的迭代该迭代器，实现函数的迭代。\n",
    "\n",
    "与之对应的调用函数为： for next等"
   ]
  },
  {
   "cell_type": "code",
   "execution_count": 36,
   "metadata": {},
   "outputs": [],
   "source": [
    "def func(n):\n",
    "    yield n*2\n",
    "    "
   ]
  },
  {
   "cell_type": "code",
   "execution_count": 37,
   "metadata": {},
   "outputs": [],
   "source": [
    "g = func(4)##调用的时候，返回的是生成器本身，并没有运行迭代器本身"
   ]
  },
  {
   "cell_type": "code",
   "execution_count": 38,
   "metadata": {
    "scrolled": true
   },
   "outputs": [
    {
     "data": {
      "text/plain": [
       "8"
      ]
     },
     "execution_count": 38,
     "metadata": {},
     "output_type": "execute_result"
    }
   ],
   "source": [
    "next(g)##只有被某些特殊的函数调用的时候，才会执行迭代器中的内容"
   ]
  },
  {
   "cell_type": "code",
   "execution_count": 29,
   "metadata": {},
   "outputs": [
    {
     "name": "stdout",
     "output_type": "stream",
     "text": [
      "[1, 1, 2, 3, 5, 8, 13, 21, 34, 55, 89, 144, 233, 377, 610, 987]\n"
     ]
    }
   ],
   "source": [
    "def fib(end = 1000):\n",
    "    prev,curr=0,1\n",
    "    while curr < end:\n",
    "        yield curr\n",
    "        prev,curr=curr,curr+prev\n",
    "\n",
    "\n",
    "print(list(fib()))"
   ]
  },
  {
   "cell_type": "code",
   "execution_count": 3,
   "metadata": {},
   "outputs": [],
   "source": [
    "from google.cloud import storage"
   ]
  },
  {
   "cell_type": "code",
   "execution_count": 2,
   "metadata": {},
   "outputs": [
    {
     "name": "stdout",
     "output_type": "stream",
     "text": [
      "Collecting google-cloud-storage\n",
      "\u001b[?25l  Downloading https://files.pythonhosted.org/packages/88/67/80761781f813ffbf8bc1db7270b6d23de7a96468da4601de3bf2e5e1d829/google_cloud_storage-1.26.0-py2.py3-none-any.whl (75kB)\n",
      "\u001b[K     |████████████████████████████████| 81kB 5.4MB/s eta 0:00:011\n",
      "\u001b[?25hCollecting google-auth<2.0dev,>=1.11.0 (from google-cloud-storage)\n",
      "\u001b[?25l  Downloading https://files.pythonhosted.org/packages/f7/f8/2da482a6165ef3f28d52faf8c2ca31628129a84a294033eb399ef500e265/google_auth-1.11.3-py2.py3-none-any.whl (76kB)\n",
      "\u001b[K     |████████████████████████████████| 81kB 6.8MB/s eta 0:00:011\n",
      "\u001b[?25hCollecting google-cloud-core<2.0dev,>=1.2.0 (from google-cloud-storage)\n",
      "  Downloading https://files.pythonhosted.org/packages/89/3c/8a7531839028c9690e6d14c650521f3bbaf26e53baaeb2784b8c3eb2fb97/google_cloud_core-1.3.0-py2.py3-none-any.whl\n",
      "Collecting google-resumable-media<0.6dev,>=0.5.0 (from google-cloud-storage)\n",
      "  Downloading https://files.pythonhosted.org/packages/35/9e/f73325d0466ce5bdc36333f1aeb2892ead7b76e79bdb5c8b0493961fa098/google_resumable_media-0.5.0-py2.py3-none-any.whl\n",
      "Collecting pyasn1-modules>=0.2.1 (from google-auth<2.0dev,>=1.11.0->google-cloud-storage)\n",
      "\u001b[?25l  Downloading https://files.pythonhosted.org/packages/95/de/214830a981892a3e286c3794f41ae67a4495df1108c3da8a9f62159b9a9d/pyasn1_modules-0.2.8-py2.py3-none-any.whl (155kB)\n",
      "\u001b[K     |████████████████████████████████| 163kB 7.8MB/s eta 0:00:01\n",
      "\u001b[?25hCollecting cachetools<5.0,>=2.0.0 (from google-auth<2.0dev,>=1.11.0->google-cloud-storage)\n",
      "  Downloading https://files.pythonhosted.org/packages/08/6a/abf83cb951617793fd49c98cb9456860f5df66ff89883c8660aa0672d425/cachetools-4.0.0-py3-none-any.whl\n",
      "Collecting rsa<4.1,>=3.1.4 (from google-auth<2.0dev,>=1.11.0->google-cloud-storage)\n",
      "  Downloading https://files.pythonhosted.org/packages/02/e5/38518af393f7c214357079ce67a317307936896e961e35450b70fad2a9cf/rsa-4.0-py2.py3-none-any.whl\n",
      "Requirement already satisfied: six>=1.9.0 in /Users/allen/anaconda3/lib/python3.7/site-packages (from google-auth<2.0dev,>=1.11.0->google-cloud-storage) (1.12.0)\n",
      "Requirement already satisfied: setuptools>=40.3.0 in /Users/allen/anaconda3/lib/python3.7/site-packages (from google-auth<2.0dev,>=1.11.0->google-cloud-storage) (41.0.1)\n",
      "Collecting google-api-core<2.0.0dev,>=1.16.0 (from google-cloud-core<2.0dev,>=1.2.0->google-cloud-storage)\n",
      "\u001b[?25l  Downloading https://files.pythonhosted.org/packages/63/7e/a523169b0cc9ce62d56e07571db927286a94b1a5f51ac220bd97db825c77/google_api_core-1.16.0-py2.py3-none-any.whl (70kB)\n",
      "\u001b[K     |████████████████████████████████| 71kB 7.6MB/s eta 0:00:011\n",
      "\u001b[?25hCollecting pyasn1<0.5.0,>=0.4.6 (from pyasn1-modules>=0.2.1->google-auth<2.0dev,>=1.11.0->google-cloud-storage)\n",
      "\u001b[?25l  Downloading https://files.pythonhosted.org/packages/62/1e/a94a8d635fa3ce4cfc7f506003548d0a2447ae76fd5ca53932970fe3053f/pyasn1-0.4.8-py2.py3-none-any.whl (77kB)\n",
      "\u001b[K     |████████████████████████████████| 81kB 6.9MB/s eta 0:00:011\n",
      "\u001b[?25hRequirement already satisfied: pytz in /Users/allen/anaconda3/lib/python3.7/site-packages (from google-api-core<2.0.0dev,>=1.16.0->google-cloud-core<2.0dev,>=1.2.0->google-cloud-storage) (2019.1)\n",
      "Requirement already satisfied: protobuf>=3.4.0 in /Users/allen/anaconda3/lib/python3.7/site-packages (from google-api-core<2.0.0dev,>=1.16.0->google-cloud-core<2.0dev,>=1.2.0->google-cloud-storage) (3.9.1)\n",
      "Collecting googleapis-common-protos<2.0dev,>=1.6.0 (from google-api-core<2.0.0dev,>=1.16.0->google-cloud-core<2.0dev,>=1.2.0->google-cloud-storage)\n",
      "  Downloading https://files.pythonhosted.org/packages/05/46/168fd780f594a4d61122f7f3dc0561686084319ad73b4febbf02ae8b32cf/googleapis-common-protos-1.51.0.tar.gz\n",
      "Requirement already satisfied: requests<3.0.0dev,>=2.18.0 in /Users/allen/anaconda3/lib/python3.7/site-packages (from google-api-core<2.0.0dev,>=1.16.0->google-cloud-core<2.0dev,>=1.2.0->google-cloud-storage) (2.22.0)\n",
      "Requirement already satisfied: chardet<3.1.0,>=3.0.2 in /Users/allen/anaconda3/lib/python3.7/site-packages (from requests<3.0.0dev,>=2.18.0->google-api-core<2.0.0dev,>=1.16.0->google-cloud-core<2.0dev,>=1.2.0->google-cloud-storage) (3.0.4)\n",
      "Requirement already satisfied: certifi>=2017.4.17 in /Users/allen/anaconda3/lib/python3.7/site-packages (from requests<3.0.0dev,>=2.18.0->google-api-core<2.0.0dev,>=1.16.0->google-cloud-core<2.0dev,>=1.2.0->google-cloud-storage) (2019.6.16)\n",
      "Requirement already satisfied: idna<2.9,>=2.5 in /Users/allen/anaconda3/lib/python3.7/site-packages (from requests<3.0.0dev,>=2.18.0->google-api-core<2.0.0dev,>=1.16.0->google-cloud-core<2.0dev,>=1.2.0->google-cloud-storage) (2.8)\n",
      "Requirement already satisfied: urllib3!=1.25.0,!=1.25.1,<1.26,>=1.21.1 in /Users/allen/anaconda3/lib/python3.7/site-packages (from requests<3.0.0dev,>=2.18.0->google-api-core<2.0.0dev,>=1.16.0->google-cloud-core<2.0dev,>=1.2.0->google-cloud-storage) (1.24.2)\n",
      "Building wheels for collected packages: googleapis-common-protos\n",
      "  Building wheel for googleapis-common-protos (setup.py) ... \u001b[?25ldone\n",
      "\u001b[?25h  Stored in directory: /Users/allen/Library/Caches/pip/wheels/2c/f9/7f/6eb87e636072bf467e25348bbeb96849333e6a080dca78f706\n",
      "Successfully built googleapis-common-protos\n",
      "Installing collected packages: pyasn1, pyasn1-modules, cachetools, rsa, google-auth, googleapis-common-protos, google-api-core, google-cloud-core, google-resumable-media, google-cloud-storage\n",
      "Successfully installed cachetools-4.0.0 google-api-core-1.16.0 google-auth-1.11.3 google-cloud-core-1.3.0 google-cloud-storage-1.26.0 google-resumable-media-0.5.0 googleapis-common-protos-1.51.0 pyasn1-0.4.8 pyasn1-modules-0.2.8 rsa-4.0\n",
      "Note: you may need to restart the kernel to use updated packages.\n"
     ]
    }
   ],
   "source": [
    "pip install google-cloud-storage\n"
   ]
  },
  {
   "cell_type": "code",
   "execution_count": null,
   "metadata": {},
   "outputs": [],
   "source": []
  }
 ],
 "metadata": {
  "kernelspec": {
   "display_name": "Python 3",
   "language": "python",
   "name": "python3"
  },
  "language_info": {
   "codemirror_mode": {
    "name": "ipython",
    "version": 3
   },
   "file_extension": ".py",
   "mimetype": "text/x-python",
   "name": "python",
   "nbconvert_exporter": "python",
   "pygments_lexer": "ipython3",
   "version": "3.7.3"
  }
 },
 "nbformat": 4,
 "nbformat_minor": 2
}
