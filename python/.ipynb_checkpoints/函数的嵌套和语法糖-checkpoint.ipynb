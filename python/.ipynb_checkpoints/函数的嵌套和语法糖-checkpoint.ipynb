{
 "cells": [
  {
   "cell_type": "markdown",
   "metadata": {},
   "source": [
    "# 函数的调用 tutorial"
   ]
  },
  {
   "cell_type": "markdown",
   "metadata": {},
   "source": [
    "## 函数的本质\n",
    "函数本身也是一个object，也可以通过赋值而定义另一个函数"
   ]
  },
  {
   "cell_type": "markdown",
   "metadata": {},
   "source": [
    "## 函数的赋值\n",
    "函数可以通过赋值复制一个功能相同的函数，因此函数也是一个object"
   ]
  },
  {
   "cell_type": "code",
   "execution_count": 1,
   "metadata": {},
   "outputs": [],
   "source": [
    "#定义一个函数\n",
    "def add (x, y ):\n",
    "    return x+y"
   ]
  },
  {
   "cell_type": "code",
   "execution_count": 4,
   "metadata": {},
   "outputs": [
    {
     "name": "stdout",
     "output_type": "stream",
     "text": [
      "3\n",
      "3\n"
     ]
    }
   ],
   "source": [
    "#通过赋值定义另一个函数\n",
    "fn1=add\n",
    "print(fn1(1,2))\n",
    "print(add(1,2))"
   ]
  },
  {
   "cell_type": "markdown",
   "metadata": {},
   "source": [
    "通过结论可以发现，add和fn1有完全相同的作用，而等号的赋值功能同样适用于函数的赋值。而这种赋值，本质上是建立一个新的函数，而不是引用。"
   ]
  },
  {
   "cell_type": "code",
   "execution_count": 5,
   "metadata": {},
   "outputs": [
    {
     "name": "stdout",
     "output_type": "stream",
     "text": [
      "3\n",
      "-1\n"
     ]
    }
   ],
   "source": [
    "#更改add函数\n",
    "def add (x, y ):\n",
    "    return x-y\n",
    "print(fn1(1,2))\n",
    "print(add(1,2))"
   ]
  },
  {
   "cell_type": "markdown",
   "metadata": {},
   "source": [
    "可以看出，fn1函数没有改变，即使add变换了"
   ]
  },
  {
   "cell_type": "markdown",
   "metadata": {},
   "source": [
    "## 函数的对象\n",
    "函数可以调用另一个函数作为输入， 换句话说，一个函数可以作为另一个函数的传入参数"
   ]
  },
  {
   "cell_type": "code",
   "execution_count": 8,
   "metadata": {},
   "outputs": [],
   "source": [
    "def caller_func(x):\n",
    "    return x(1, 2)"
   ]
  },
  {
   "cell_type": "code",
   "execution_count": 10,
   "metadata": {},
   "outputs": [
    {
     "data": {
      "text/plain": [
       "3"
      ]
     },
     "execution_count": 10,
     "metadata": {},
     "output_type": "execute_result"
    }
   ],
   "source": [
    "caller_func(fn1)"
   ]
  },
  {
   "cell_type": "markdown",
   "metadata": {},
   "source": [
    "这里，函数caller_func将fn1函数作为函数的输入，赋值给了local变量x\\\n",
    "根据函数的赋值，x=fn1,即x是一个与fn1完全相同的一个函数。\\\n",
    "最后返回的是x(1,2),结果必然等同于 fn1(1,2)，因为x函数是通过赋值的方式建立的。\n"
   ]
  },
  {
   "cell_type": "markdown",
   "metadata": {},
   "source": [
    "## 函数的对象性VS调用\n",
    "无论是赋值，还是作为函数的参数，其都不是函数的调用，而是函数对象本身。\\\n",
    "函数的调用最大的特点是，函数在被调用后，返回的是return的值\\\n",
    "而函数对象，返回的不是函数的return"
   ]
  },
  {
   "cell_type": "code",
   "execution_count": 15,
   "metadata": {},
   "outputs": [
    {
     "name": "stdout",
     "output_type": "stream",
     "text": [
      "<function func at 0x10c38dbf8>\n",
      "you are calling\n",
      "True\n",
      "False\n"
     ]
    }
   ],
   "source": [
    "def func():\n",
    "    return \"you are calling\"\n",
    "\n",
    "result1 = func\n",
    "result2 = func()\n",
    "print(result1)\n",
    "print(result2)\n",
    "print(callable(result1))\n",
    "print(callable(result2))"
   ]
  },
  {
   "cell_type": "markdown",
   "metadata": {},
   "source": [
    "result1是没有执行return的，而result2是执行了return的，因此result2是在调用，result1是在object\n"
   ]
  },
  {
   "cell_type": "markdown",
   "metadata": {},
   "source": [
    "## 闭包传递\n",
    "作用：封存上下文，优先在内函数中寻找变量名\\\n",
    "闭包指的是：函数的语句和环境一同打包，得到对象。\\\n",
    "执行逻辑是：当函数发生调用的时候，会优先在内层函数中寻找符合条件的变量的值，当寻找到以后，就不在去外层寻找。\\\n",
    "因此，当一个函数调用其他函数的时候，若两个函数有相同的变量名的时候，当调用发生时，变量名是被调用函数内的变量值，而不是外函数的变量值，即使调用发生在外函数中。"
   ]
  },
  {
   "cell_type": "raw",
   "metadata": {},
   "source": [
    "#函数1\n",
    "filename = \"foo.py\"\n",
    "\n",
    "def call_func(f):\n",
    "    return f()"
   ]
  },
  {
   "cell_type": "raw",
   "metadata": {},
   "source": [
    "#函数2\n",
    "import foo\n",
    "\n",
    "filename = \"func.py\"\n",
    "def show_filename():\n",
    "    return filename"
   ]
  },
  {
   "cell_type": "raw",
   "metadata": {},
   "source": [
    "#调用\n",
    "foo.call_func(show_filename)\n",
    "\n",
    "#返回\n",
    "  func.py\n",
    "\n",
    "这个例子可以看出：即使函数在foo中运行，但调用show_filename的时候，需要变量 filename变量值的时候，还是优先在内层函数show_filename中寻找，找到了以后，给出返回值。\n"
   ]
  },
  {
   "cell_type": "markdown",
   "metadata": {},
   "source": [
    "## 装饰器和语法糖(syntax sugar)\n",
    "输入输出：输入一个函数，输出一个函数。\\\n",
    "修饰的主要作用是：在不改变原函数的基础之上，增强函数的功能。而增强的功能仅限于不改变原函数的功能，即把原函数当作黑盒来对待\\\n",
    "手段：利用函数的object特性和闭包的特性，将原来函数传入到一个加强框架函数里。该框架函数将一个函数作为输入，经过装饰之后，返回一个函数。\\\n",
    "\n",
    "！！！\n",
    "其中，闭包特性保证了原来函数的变量值不混乱。而函数的对象特性，保证函数可以作为传参传入另一个函数，也可以被返回。"
   ]
  },
  {
   "cell_type": "markdown",
   "metadata": {},
   "source": [
    "### wrapper\n",
    "wrapper 给出的是个函数的包装纸，该包装纸的传参是一个朴实无华的function，return的还是这个函数，在input和return之间，你已经给函数的外面加上一些功能\n",
    "\n",
    "因此一种批量定义函数的方法，外函数返回内函数，内函数是可以被外函数初始化的函数。"
   ]
  },
  {
   "cell_type": "code",
   "execution_count": 3,
   "metadata": {},
   "outputs": [],
   "source": [
    "def add(a,b):\n",
    "    return a+b\n"
   ]
  },
  {
   "cell_type": "code",
   "execution_count": 4,
   "metadata": {},
   "outputs": [],
   "source": [
    "def add_and_print(func):\n",
    "    def wrapper(a,b):\n",
    "        \n",
    "        print(\"the result of sum \",a,\"and \",b,\"is \")#增强的功能\n",
    "        \n",
    "        return func(a,b)#input的函数给还回去。\n",
    "    \n",
    "    return wrapper"
   ]
  },
  {
   "cell_type": "code",
   "execution_count": 5,
   "metadata": {},
   "outputs": [
    {
     "name": "stdout",
     "output_type": "stream",
     "text": [
      "the result of sum  1 and  2 is \n"
     ]
    },
    {
     "data": {
      "text/plain": [
       "3"
      ]
     },
     "execution_count": 5,
     "metadata": {},
     "output_type": "execute_result"
    }
   ],
   "source": [
    "sum = add_and_print(add)\n",
    "sum(1,2)"
   ]
  },
  {
   "cell_type": "code",
   "execution_count": 54,
   "metadata": {},
   "outputs": [
    {
     "data": {
      "text/plain": [
       "3"
      ]
     },
     "execution_count": 54,
     "metadata": {},
     "output_type": "execute_result"
    }
   ],
   "source": [
    "add(1,2)"
   ]
  },
  {
   "cell_type": "markdown",
   "metadata": {},
   "source": [
    "可以看到，sum的功能是add的加强版（add没有那句话）！\\\n",
    "add_and_print()这个函数，进去一个函数，自己加了一些功能，又把同样的函数吐出来了。这就起到了增强的功能。\\\n",
    "但这种改变也尽是限于对原函数的包装，设计的时候也只需要把原函数当成黑盒子，黑盒子是不能改变的，你能做的就是给黑盒子装外挂。而对于有些功能，必须要通过改正原函数内部才可以达到，那么这种方法即使不行的。"
   ]
  },
  {
   "cell_type": "markdown",
   "metadata": {},
   "source": [
    "### syntax sugar\n",
    "该方法起到的作用是将，接下来即将定义的，朴实无华函数，放在包装纸里，去包装他。\n",
    "\n",
    "为了化简 add_and_print(add)这种包装方式，我们用："
   ]
  },
  {
   "cell_type": "code",
   "execution_count": 57,
   "metadata": {},
   "outputs": [],
   "source": [
    "@add_and_print      #标准下面这个函数在add_and_print框架下工作。\n",
    "def add_sugar (a,b):\n",
    "    return a+b"
   ]
  },
  {
   "cell_type": "code",
   "execution_count": 58,
   "metadata": {},
   "outputs": [
    {
     "name": "stdout",
     "output_type": "stream",
     "text": [
      "the result of sum  1 and  2 is \n"
     ]
    },
    {
     "data": {
      "text/plain": [
       "3"
      ]
     },
     "execution_count": 58,
     "metadata": {},
     "output_type": "execute_result"
    }
   ],
   "source": [
    "add_sugar(1,2)"
   ]
  },
  {
   "cell_type": "markdown",
   "metadata": {},
   "source": [
    "在这里，add_sugar函数在定义的时候就被放在了add_and_print里面去了，因此add_sugar自带框架功能，即使你没定义"
   ]
  }
 ],
 "metadata": {
  "kernelspec": {
   "display_name": "Python 3",
   "language": "python",
   "name": "python3"
  },
  "language_info": {
   "codemirror_mode": {
    "name": "ipython",
    "version": 3
   },
   "file_extension": ".py",
   "mimetype": "text/x-python",
   "name": "python",
   "nbconvert_exporter": "python",
   "pygments_lexer": "ipython3",
   "version": "3.7.3"
  }
 },
 "nbformat": 4,
 "nbformat_minor": 2
}
