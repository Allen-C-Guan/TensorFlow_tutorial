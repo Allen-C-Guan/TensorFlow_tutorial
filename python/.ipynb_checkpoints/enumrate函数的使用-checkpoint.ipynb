{
 "cells": [
  {
   "cell_type": "markdown",
   "metadata": {},
   "source": [
    "# enumrate\n",
    "与JAVA中的枚举类型一样， enumrate的作用通常是为了表示常数，他和使用变量表示常数最大的优点和不同在于，enum类型可以通过实例化而产生独一无二的实例化对象，而不是所有量都通过赋值来得到变量。"
   ]
  },
  {
   "cell_type": "code",
   "execution_count": 48,
   "metadata": {},
   "outputs": [],
   "source": [
    "from enum import Enum, unique\n",
    "\n",
    "class Color(Enum):\n",
    "    RED = 1\n",
    "    ORANGE =2\n",
    "    YELLOW = 2\n",
    "    GREEN = 3\n",
    "    "
   ]
  },
  {
   "cell_type": "code",
   "execution_count": 49,
   "metadata": {},
   "outputs": [
    {
     "name": "stdout",
     "output_type": "stream",
     "text": [
      "<enum 'Color'>\n",
      "RED\n",
      "1\n"
     ]
    }
   ],
   "source": [
    "r = Color.RED\n",
    "print(type(r))\n",
    "print(r.name)\n",
    "print(r.value)"
   ]
  },
  {
   "cell_type": "markdown",
   "metadata": {},
   "source": [
    "### @unique的用法\n",
    "通过修饰符，unique的作用可以限制让value的值不可以重复"
   ]
  },
  {
   "cell_type": "code",
   "execution_count": 50,
   "metadata": {},
   "outputs": [],
   "source": [
    "@unique\n",
    "class Color2(Enum):\n",
    "    RED = 1\n",
    "    ORANGE =2\n",
    "    YELLOW = 5\n",
    "    GREEN = 3"
   ]
  },
  {
   "cell_type": "markdown",
   "metadata": {},
   "source": [
    "### enum的输出"
   ]
  },
  {
   "cell_type": "markdown",
   "metadata": {},
   "source": [
    "enum中，以变量名的string为index，可以返回对应的enum。"
   ]
  },
  {
   "cell_type": "code",
   "execution_count": 55,
   "metadata": {
    "scrolled": false
   },
   "outputs": [
    {
     "data": {
      "text/plain": [
       "<Color.GREEN: 3>"
      ]
     },
     "execution_count": 55,
     "metadata": {},
     "output_type": "execute_result"
    }
   ],
   "source": [
    "Color[\"GREEN\"]"
   ]
  },
  {
   "cell_type": "markdown",
   "metadata": {},
   "source": [
    "__for loop 用于输出__\\\n",
    "通过下面的例子，我们发现，正常的遍历是不会遍历到重复的value对应的枚举对的，这是因为python认为，相同的value是之前已经定义过的overloading，而不是一个单独的独立的枚举对。"
   ]
  },
  {
   "cell_type": "code",
   "execution_count": 36,
   "metadata": {
    "scrolled": true
   },
   "outputs": [
    {
     "name": "stdout",
     "output_type": "stream",
     "text": [
      "Color.RED\n",
      "Color.ORANGE\n",
      "Color.GREEN\n"
     ]
    }
   ],
   "source": [
    "for temp in Color:\n",
    "    print(temp)"
   ]
  },
  {
   "cell_type": "markdown",
   "metadata": {},
   "source": [
    "##### \\__members__.items()\n",
    "用于返回所有枚举对，包含重复的value"
   ]
  },
  {
   "cell_type": "code",
   "execution_count": 31,
   "metadata": {},
   "outputs": [
    {
     "data": {
      "text/plain": [
       "odict_items([('RED', <Color.RED: 1>), ('ORANGE', <Color.ORANGE: 2>), ('YELLOW', <Color.ORANGE: 2>), ('GREEN', <Color.GREEN: 3>)])"
      ]
     },
     "execution_count": 31,
     "metadata": {},
     "output_type": "execute_result"
    }
   ],
   "source": [
    "Color.__members__.items()"
   ]
  },
  {
   "cell_type": "markdown",
   "metadata": {},
   "source": [
    "repr的作用是将对象转化成可读性的形式并不一定是toString().。通常用于dict或者class实例化的obj的作用。String()通常是将数字变量变成字符串。"
   ]
  },
  {
   "cell_type": "code",
   "execution_count": 33,
   "metadata": {},
   "outputs": [
    {
     "data": {
      "text/plain": [
       "'Color.RED'"
      ]
     },
     "execution_count": 33,
     "metadata": {},
     "output_type": "execute_result"
    }
   ],
   "source": [
    "str(Color.RED)"
   ]
  },
  {
   "cell_type": "code",
   "execution_count": 32,
   "metadata": {
    "scrolled": true
   },
   "outputs": [
    {
     "data": {
      "text/plain": [
       "'<Color.RED: 1>'"
      ]
     },
     "execution_count": 32,
     "metadata": {},
     "output_type": "execute_result"
    }
   ],
   "source": [
    "repr(Color.RED)"
   ]
  },
  {
   "cell_type": "markdown",
   "metadata": {},
   "source": [
    "## enumerate函数的用法\n",
    "语法： enumrate(sequence,[start = 0])\n",
    "\n",
    "功能： \n",
    "1. 将可遍历的数据对象直接变成enum类型的数据，具有index和value\n",
    "2. start可以让index从几开始数。\n",
    "\n",
    "例如： allen => (4,allen)其中4是index， allen是value。"
   ]
  },
  {
   "cell_type": "code",
   "execution_count": 40,
   "metadata": {},
   "outputs": [],
   "source": [
    "seq = ['one','two','three']\n",
    "a = enumerate(seq,start = 1)\n"
   ]
  },
  {
   "cell_type": "code",
   "execution_count": 41,
   "metadata": {},
   "outputs": [
    {
     "name": "stdout",
     "output_type": "stream",
     "text": [
      "[(1, 'one'), (2, 'two'), (3, 'three')]\n",
      "<class 'enumerate'>\n"
     ]
    }
   ],
   "source": [
    "print(list(a))\n",
    "print(type(a))"
   ]
  },
  {
   "cell_type": "code",
   "execution_count": 7,
   "metadata": {},
   "outputs": [
    {
     "name": "stdout",
     "output_type": "stream",
     "text": [
      "this is i: 5\n",
      "this is element:  one\n",
      "this is i: 6\n",
      "this is element:  two\n",
      "this is i: 7\n",
      "this is element:  three\n"
     ]
    }
   ],
   "source": [
    "for i, element in enumerate(seq,start =5):\n",
    "    print(\"this is i:\", i)\n",
    "    print(\"this is element: \",element)"
   ]
  },
  {
   "cell_type": "code",
   "execution_count": 10,
   "metadata": {},
   "outputs": [],
   "source": [
    "a = enumerate(seq,start = 1)"
   ]
  }
 ],
 "metadata": {
  "kernelspec": {
   "display_name": "Python 3",
   "language": "python",
   "name": "python3"
  },
  "language_info": {
   "codemirror_mode": {
    "name": "ipython",
    "version": 3
   },
   "file_extension": ".py",
   "mimetype": "text/x-python",
   "name": "python",
   "nbconvert_exporter": "python",
   "pygments_lexer": "ipython3",
   "version": "3.7.3"
  }
 },
 "nbformat": 4,
 "nbformat_minor": 2
}
