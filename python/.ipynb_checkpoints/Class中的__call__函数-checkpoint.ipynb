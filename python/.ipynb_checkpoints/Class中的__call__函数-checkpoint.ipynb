{
 "cells": [
  {
   "cell_type": "markdown",
   "metadata": {},
   "source": [
    "## Class定义中的__call__函数\n",
    "call函数是一种在obj被调用的时候，被默认调用的函数。\n",
    "\n",
    "class中的call函数，可以让class的实例化对象具有class和函数的双重特性。（class的特性表示，其可以有自己的属性，自己的方法，函数特性表示可以通过 __*直接*__ 调用obj来很方便的实现一些功能,而不需要借助class中的method。）"
   ]
  },
  {
   "cell_type": "code",
   "execution_count": 40,
   "metadata": {},
   "outputs": [],
   "source": [
    "class TestCall:\n",
    "    def __init__(self, a):\n",
    "        self.a = a\n",
    "        self.b = a\n",
    "        \n",
    "    def __call__(self, b):\n",
    "        self.a=self.a+b\n",
    "        \n",
    "    def add(self, d):\n",
    "        self.b = self.b+d\n",
    "        \n",
    "    def disp_a(self):\n",
    "        print(self.a)\n",
    "        \n",
    "    def disp_b(self):\n",
    "        print(self.b)"
   ]
  },
  {
   "cell_type": "code",
   "execution_count": 41,
   "metadata": {
    "scrolled": false
   },
   "outputs": [
    {
     "name": "stdout",
     "output_type": "stream",
     "text": [
      "2\n",
      "2\n"
     ]
    }
   ],
   "source": [
    "c1= TestCall(2)\n",
    "c1.disp_a()\n",
    "c1.disp_b()"
   ]
  },
  {
   "cell_type": "markdown",
   "metadata": {},
   "source": [
    "__使用class的方法完成add计算__"
   ]
  },
  {
   "cell_type": "code",
   "execution_count": 42,
   "metadata": {},
   "outputs": [
    {
     "name": "stdout",
     "output_type": "stream",
     "text": [
      "5\n"
     ]
    }
   ],
   "source": [
    "c1.add(3)\n",
    "c1.disp_b()"
   ]
  },
  {
   "cell_type": "markdown",
   "metadata": {},
   "source": [
    "__使用class的调用来完成计算__"
   ]
  },
  {
   "cell_type": "code",
   "execution_count": 43,
   "metadata": {
    "scrolled": false
   },
   "outputs": [
    {
     "name": "stdout",
     "output_type": "stream",
     "text": [
      "5\n"
     ]
    }
   ],
   "source": [
    "c1(3)\n",
    "c1.disp_a()"
   ]
  },
  {
   "cell_type": "markdown",
   "metadata": {},
   "source": [
    "c1还具具备obj的特征，即拥有自己的属性和method"
   ]
  },
  {
   "cell_type": "code",
   "execution_count": 46,
   "metadata": {},
   "outputs": [
    {
     "name": "stdout",
     "output_type": "stream",
     "text": [
      "5\n",
      "5\n"
     ]
    }
   ],
   "source": [
    "print(c1.a)\n",
    "print(c1.b)"
   ]
  },
  {
   "cell_type": "markdown",
   "metadata": {},
   "source": [
    "__综上我们可以认为，__  __call__函数是一种在obj被调用的时候，被默认调用的函数。"
   ]
  },
  {
   "cell_type": "code",
   "execution_count": null,
   "metadata": {},
   "outputs": [],
   "source": []
  }
 ],
 "metadata": {
  "kernelspec": {
   "display_name": "Python 3",
   "language": "python",
   "name": "python3"
  },
  "language_info": {
   "codemirror_mode": {
    "name": "ipython",
    "version": 3
   },
   "file_extension": ".py",
   "mimetype": "text/x-python",
   "name": "python",
   "nbconvert_exporter": "python",
   "pygments_lexer": "ipython3",
   "version": "3.7.3"
  }
 },
 "nbformat": 4,
 "nbformat_minor": 2
}
