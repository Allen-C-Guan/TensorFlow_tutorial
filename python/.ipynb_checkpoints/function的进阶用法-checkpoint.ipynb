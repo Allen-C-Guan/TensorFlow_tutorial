{
 "cells": [
  {
   "cell_type": "markdown",
   "metadata": {},
   "source": [
    "# 可变变量的传入\n",
    "可变变量指的是，该变量是什么类型，什么长度，有几个，都不知道的情况，通过 \\* args和 \\* \\* kwargs，的预留位置，仍然可以将不定变量传入。\n",
    "\n",
    "其中\\\n",
    "args，会变成tuple的形式。\n",
    "\n",
    "kwargs，会变成dict形式，因此要求传入参数必须是带有key words和value类型的变量，例如：等式 a=5, dictionary等"
   ]
  },
  {
   "cell_type": "markdown",
   "metadata": {},
   "source": [
    "## ** args and **kwargs的用法"
   ]
  },
  {
   "cell_type": "code",
   "execution_count": 10,
   "metadata": {},
   "outputs": [],
   "source": [
    "def testMethod( normal_var, *args ,**kwargs):\n",
    "    print(\"normal_var is : \", normal_var)\n",
    "    print(\"\")\n",
    "    \n",
    "    print(\"* args are: \", args)\n",
    "    print(\"type of *args are: \", type(args))\n",
    "    print(\"\")\n",
    "    \n",
    "    print(\"**kwargs are: \", kwargs)\n",
    "    print(\"type of **kwargs are:\",type(kwargs))\n",
    "    "
   ]
  },
  {
   "cell_type": "code",
   "execution_count": 11,
   "metadata": {},
   "outputs": [
    {
     "name": "stdout",
     "output_type": "stream",
     "text": [
      "normal_var is :  2\n",
      "\n",
      "* args are:  (3, 4, 5, 6)\n",
      "type of *args are:  <class 'tuple'>\n",
      "\n",
      "**kwargs are:  {'k1': 3, 'k3': 7}\n",
      "type of **kwargs are: <class 'dict'>\n"
     ]
    }
   ],
   "source": [
    "testMethod(2,3,4,5,6,k1=3,k3=7)"
   ]
  },
  {
   "cell_type": "markdown",
   "metadata": {},
   "source": [
    "通过例子可以发现，该方法会将传入的参数自动对应的分给对应的变量上，而args会接受list的元素，放在tuple里面，而kwargs会接受dict类型的，以dict储存并返回。"
   ]
  },
  {
   "cell_type": "code",
   "execution_count": null,
   "metadata": {},
   "outputs": [],
   "source": []
  }
 ],
 "metadata": {
  "kernelspec": {
   "display_name": "Python 3",
   "language": "python",
   "name": "python3"
  },
  "language_info": {
   "codemirror_mode": {
    "name": "ipython",
    "version": 3
   },
   "file_extension": ".py",
   "mimetype": "text/x-python",
   "name": "python",
   "nbconvert_exporter": "python",
   "pygments_lexer": "ipython3",
   "version": "3.7.3"
  }
 },
 "nbformat": 4,
 "nbformat_minor": 2
}
