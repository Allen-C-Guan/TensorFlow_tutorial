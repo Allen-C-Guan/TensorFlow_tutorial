{
 "cells": [
  {
   "cell_type": "markdown",
   "metadata": {},
   "source": [
    "# sorted函数的使用\n"
   ]
  },
  {
   "cell_type": "markdown",
   "metadata": {},
   "source": [
    "## sorted（key）函数的使用\n",
    "sorted(mylist, key=WhatToSortBy)\n",
    "\n",
    "key参数可以选择，将可遍历的数据按何种方式去排序"
   ]
  },
  {
   "cell_type": "code",
   "execution_count": 2,
   "metadata": {},
   "outputs": [
    {
     "data": {
      "text/plain": [
       "[(6, 2, 8), (3, 5, 8), (6, 8, 5), (2, 9, 4)]"
      ]
     },
     "execution_count": 2,
     "metadata": {},
     "output_type": "execute_result"
    }
   ],
   "source": [
    "mylist = [(3, 5, 8), (6, 2, 8), ( 2, 9, 4), (6, 8, 5)]\n",
    "sorted(mylist, key=lambda x: x[1])"
   ]
  },
  {
   "cell_type": "markdown",
   "metadata": {},
   "source": [
    "我们可以把lambda看成，被遍历的元素的指针，其指向WhatToSortBy，即决定了依赖哪些元素来排序。\\\n",
    "在上式中，我们lambda指向了每个tuple的第二个元素。\n",
    "\n",
    "其实现的方法也不难：将所有被遍历的元素，依次经过lambda之后，会得到一个新的数组或者list，我们保证新的list与原来数组的一一对应关系，根据新list的来排序。将新的list排好之后，对应的原数组就排好了。"
   ]
  },
  {
   "cell_type": "code",
   "execution_count": 1,
   "metadata": {},
   "outputs": [
    {
     "data": {
      "text/plain": [
       "[3, 3, 23, 6, 2, 4, 8]"
      ]
     },
     "execution_count": 1,
     "metadata": {},
     "output_type": "execute_result"
    }
   ],
   "source": [
    "mylist = [3,6,3,2,4,8,23]\n",
    "sorted(mylist, key=lambda x: x%2==0)"
   ]
  },
  {
   "cell_type": "markdown",
   "metadata": {},
   "source": [
    "原数组在经历过lambda函数后，得到新的数组：[1 0 1 0 0 0 1]\\\n",
    "我们根据新的list，对[1 0 1 0 0 0 1]排序得到[0 0 0 0 1 1 1]. 其对应的原来的数组相应的变成[3, 3, 23, 6, 2, 4, 8]"
   ]
  },
  {
   "cell_type": "code",
   "execution_count": null,
   "metadata": {},
   "outputs": [],
   "source": []
  }
 ],
 "metadata": {
  "kernelspec": {
   "display_name": "Python 3",
   "language": "python",
   "name": "python3"
  },
  "language_info": {
   "codemirror_mode": {
    "name": "ipython",
    "version": 3
   },
   "file_extension": ".py",
   "mimetype": "text/x-python",
   "name": "python",
   "nbconvert_exporter": "python",
   "pygments_lexer": "ipython3",
   "version": "3.7.3"
  }
 },
 "nbformat": 4,
 "nbformat_minor": 2
}
