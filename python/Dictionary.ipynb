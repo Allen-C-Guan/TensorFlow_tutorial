{
 "cells": [
  {
   "cell_type": "markdown",
   "metadata": {},
   "source": [
    "# Dictionary"
   ]
  },
  {
   "cell_type": "markdown",
   "metadata": {},
   "source": [
    "## items( )\n",
    "功能： 返回的是可遍历的 key和value。\n",
    "\n",
    "直接遍历dict得到的只是key。items()则可以将key和value都传递回来，如果对应给出2个value，则这两个value分别是key和value。"
   ]
  },
  {
   "cell_type": "markdown",
   "metadata": {},
   "source": [
    "### 分开传递"
   ]
  },
  {
   "cell_type": "code",
   "execution_count": 1,
   "metadata": {},
   "outputs": [
    {
     "name": "stdout",
     "output_type": "stream",
     "text": [
      "dict_items([('Google', 'www.google.com'), ('Runoob', 'www.runoob.com'), ('taobao', 'www.taobao.com')])\n"
     ]
    }
   ],
   "source": [
    "dic = {'Google': 'www.google.com', 'Runoob': 'www.runoob.com', 'taobao': 'www.taobao.com'}\n",
    "\n",
    "print(dic.items())"
   ]
  },
  {
   "cell_type": "code",
   "execution_count": 8,
   "metadata": {},
   "outputs": [
    {
     "name": "stdout",
     "output_type": "stream",
     "text": [
      "key is:  Google\n",
      "value is:  www.google.com\n",
      "key is:  Runoob\n",
      "value is:  www.runoob.com\n",
      "key is:  taobao\n",
      "value is:  www.taobao.com\n"
     ]
    }
   ],
   "source": [
    "for key, value in dic.items():\n",
    "    print(\"key is: \",key)\n",
    "    print(\"value is: \", value)\n",
    "    "
   ]
  },
  {
   "cell_type": "markdown",
   "metadata": {},
   "source": [
    "### 一起传递"
   ]
  },
  {
   "cell_type": "code",
   "execution_count": 12,
   "metadata": {},
   "outputs": [
    {
     "name": "stdout",
     "output_type": "stream",
     "text": [
      "key is:  ('Google', 'www.google.com')\n",
      "key is:  ('Runoob', 'www.runoob.com')\n",
      "key is:  ('taobao', 'www.taobao.com')\n"
     ]
    }
   ],
   "source": [
    "for key in dic.items():\n",
    "    print(\"key is: \",key)\n",
    "    \n",
    "    "
   ]
  },
  {
   "cell_type": "markdown",
   "metadata": {},
   "source": [
    "### dict的遍历（没用items( )的结果）"
   ]
  },
  {
   "cell_type": "code",
   "execution_count": 11,
   "metadata": {},
   "outputs": [
    {
     "name": "stdout",
     "output_type": "stream",
     "text": [
      "key is:  taobao\n",
      "value is:  www.google.com\n",
      "key is:  taobao\n",
      "value is:  www.runoob.com\n",
      "key is:  taobao\n",
      "value is:  www.taobao.com\n"
     ]
    }
   ],
   "source": [
    "for key in dic:\n",
    "    print(\"key is: \", temp)\n",
    "    print(\"value is: \", dic[key])\n",
    "    "
   ]
  },
  {
   "cell_type": "code",
   "execution_count": null,
   "metadata": {},
   "outputs": [],
   "source": []
  }
 ],
 "metadata": {
  "kernelspec": {
   "display_name": "Python 3",
   "language": "python",
   "name": "python3"
  },
  "language_info": {
   "codemirror_mode": {
    "name": "ipython",
    "version": 3
   },
   "file_extension": ".py",
   "mimetype": "text/x-python",
   "name": "python",
   "nbconvert_exporter": "python",
   "pygments_lexer": "ipython3",
   "version": "3.7.3"
  }
 },
 "nbformat": 4,
 "nbformat_minor": 2
}
