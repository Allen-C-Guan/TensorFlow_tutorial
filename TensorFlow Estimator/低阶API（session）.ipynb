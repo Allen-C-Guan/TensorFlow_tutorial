{
 "cells": [
  {
   "cell_type": "markdown",
   "metadata": {},
   "source": [
    "# session tutorial"
   ]
  },
  {
   "cell_type": "code",
   "execution_count": 1,
   "metadata": {},
   "outputs": [
    {
     "name": "stderr",
     "output_type": "stream",
     "text": [
      "WARNING: Logging before flag parsing goes to stderr.\n",
      "W0825 12:20:06.850960 4649293248 deprecation.py:323] From /Users/allen/anaconda3/lib/python3.7/site-packages/tensorflow/python/compat/v2_compat.py:65: disable_resource_variables (from tensorflow.python.ops.variable_scope) is deprecated and will be removed in a future version.\n",
      "Instructions for updating:\n",
      "non-resource variables are not supported in the long term\n",
      "W0825 12:20:06.934309 4649293248 deprecation.py:323] From /Users/allen/anaconda3/lib/python3.7/site-packages/tensorflow/python/util/tf_should_use.py:193: initialize_all_variables (from tensorflow.python.ops.variables) is deprecated and will be removed after 2017-03-02.\n",
      "Instructions for updating:\n",
      "Use `tf.global_variables_initializer` instead.\n"
     ]
    },
    {
     "name": "stdout",
     "output_type": "stream",
     "text": [
      "0 [0.76662636] [-0.07080486]\n",
      "20 [0.30613524] [0.19271879]\n",
      "40 [0.16282047] [0.26730567]\n",
      "60 [0.11914477] [0.2900363]\n",
      "80 [0.10583443] [0.29696354]\n",
      "100 [0.10177806] [0.29907465]\n",
      "120 [0.10054189] [0.299718]\n",
      "140 [0.10016517] [0.29991406]\n",
      "160 [0.10005035] [0.29997382]\n",
      "180 [0.10001534] [0.29999202]\n",
      "200 [0.10000466] [0.2999976]\n"
     ]
    }
   ],
   "source": [
    "####easy sample ###\n",
    "import tensorflow.compat.v1 as tf\n",
    "tf.disable_v2_behavior()\n",
    "import numpy as np\n",
    "\n",
    "#creat data and labels\n",
    "x_data=np.random.rand(100).astype(np.float32)#astype指的是数据的格式\n",
    "y_data=x_data*0.1+0.3 #这是一些数据组\n",
    "\n",
    "\n",
    "#create tensorflow structure start#\n",
    "\n",
    "#initial variable（定义哪些是tf中的variable）\n",
    "Weights=tf.Variable(tf.random.uniform([1],-1.0,1.0))\n",
    "        #定义Weights是一个tf.variable class的形式，\n",
    "        #tf.random_uniform（[维度]，左端点，右端点）\n",
    "biases=tf.Variable(tf.zeros\n",
    "                   ([1]))\n",
    "        #tf.zero也是一种产生0矩阵的方法。\n",
    "\n",
    "#Weights 和 biases被定义成为了需要学习的variable\n",
    "    \n",
    "    \n",
    "\n",
    "#initial object and loss function(machine learning 的问题)\n",
    "\n",
    "y=Weights*x_data+biases #object\n",
    "\n",
    "loss=tf.reduce_mean(tf.square(y-y_data))#loss function\n",
    "\n",
    "#optimizer\n",
    "\n",
    "optimizer=tf.train.GradientDescentOptimizer(0.5)#建立优化器(学习效率（<1))\n",
    "\n",
    "train=optimizer.minimize(loss)#优化器是为了减少loss function 的大小\n",
    "\n",
    "#variables组合起来放一起\n",
    "init=tf.initialize_all_variables()#所有variable都放在init里面\n",
    "\n",
    "#create tensorflow structure end#\n",
    "\n",
    "sess=tf.Session() #定义一个session\n",
    "sess.run(init)   #在session里面跑一下variable\n",
    "\n",
    "for step in range(201):\n",
    "    sess.run(train)#优化一次（train是optimizer）\n",
    "    if step % 20 == 0:\n",
    "        print(step, sess.run(Weights), sess.run(biases))\n",
    "        \n",
    "        \n",
    "        \n",
    "#通过这个代码我们可以发现\n",
    "#tf.variable是用来确定哪些是需要学的variable\n",
    "#optimizer是优化器，用来逼近最值，运行一次optimizer，优化一步\n",
    "#session是交互的界面，optimizer和variable的运行都要经过session来运行的\n",
    "\n",
    "\n",
    "\n"
   ]
  },
  {
   "cell_type": "markdown",
   "metadata": {},
   "source": [
    "### 识别手写体的方法"
   ]
  },
  {
   "cell_type": "code",
   "execution_count": 7,
   "metadata": {},
   "outputs": [
    {
     "name": "stderr",
     "output_type": "stream",
     "text": [
      "W0807 19:49:05.373466 4665824704 deprecation.py:323] From <ipython-input-7-0302b14876e8>:2: read_data_sets (from tensorflow.contrib.learn.python.learn.datasets.mnist) is deprecated and will be removed in a future version.\n",
      "Instructions for updating:\n",
      "Please use alternatives such as official/mnist/dataset.py from tensorflow/models.\n",
      "W0807 19:49:05.374857 4665824704 deprecation.py:323] From /Users/allen/anaconda3/lib/python3.7/site-packages/tensorflow/contrib/learn/python/learn/datasets/mnist.py:260: maybe_download (from tensorflow.contrib.learn.python.learn.datasets.base) is deprecated and will be removed in a future version.\n",
      "Instructions for updating:\n",
      "Please write your own downloading logic.\n",
      "W0807 19:49:05.376498 4665824704 deprecation.py:323] From /Users/allen/anaconda3/lib/python3.7/site-packages/tensorflow/contrib/learn/python/learn/datasets/mnist.py:262: extract_images (from tensorflow.contrib.learn.python.learn.datasets.mnist) is deprecated and will be removed in a future version.\n",
      "Instructions for updating:\n",
      "Please use tf.data to implement this functionality.\n"
     ]
    },
    {
     "name": "stdout",
     "output_type": "stream",
     "text": [
      "Extracting MNIST_data/train-images-idx3-ubyte.gz\n"
     ]
    },
    {
     "name": "stderr",
     "output_type": "stream",
     "text": [
      "W0807 19:49:05.700196 4665824704 deprecation.py:323] From /Users/allen/anaconda3/lib/python3.7/site-packages/tensorflow/contrib/learn/python/learn/datasets/mnist.py:267: extract_labels (from tensorflow.contrib.learn.python.learn.datasets.mnist) is deprecated and will be removed in a future version.\n",
      "Instructions for updating:\n",
      "Please use tf.data to implement this functionality.\n",
      "W0807 19:49:05.702981 4665824704 deprecation.py:323] From /Users/allen/anaconda3/lib/python3.7/site-packages/tensorflow/contrib/learn/python/learn/datasets/mnist.py:110: dense_to_one_hot (from tensorflow.contrib.learn.python.learn.datasets.mnist) is deprecated and will be removed in a future version.\n",
      "Instructions for updating:\n",
      "Please use tf.one_hot on tensors.\n",
      "W0807 19:49:05.783768 4665824704 deprecation.py:323] From /Users/allen/anaconda3/lib/python3.7/site-packages/tensorflow/contrib/learn/python/learn/datasets/mnist.py:290: DataSet.__init__ (from tensorflow.contrib.learn.python.learn.datasets.mnist) is deprecated and will be removed in a future version.\n",
      "Instructions for updating:\n",
      "Please use alternatives such as official/mnist/dataset.py from tensorflow/models.\n"
     ]
    },
    {
     "name": "stdout",
     "output_type": "stream",
     "text": [
      "Extracting MNIST_data/train-labels-idx1-ubyte.gz\n",
      "Extracting MNIST_data/t10k-images-idx3-ubyte.gz\n",
      "Extracting MNIST_data/t10k-labels-idx1-ubyte.gz\n"
     ]
    }
   ],
   "source": [
    "import tensorflow.examples.tutorials.mnist.input_data as input_data\n",
    "mnist = input_data.read_data_sets(\"MNIST_data/\", one_hot=True)"
   ]
  },
  {
   "cell_type": "code",
   "execution_count": 7,
   "metadata": {},
   "outputs": [
    {
     "name": "stderr",
     "output_type": "stream",
     "text": [
      "WARNING: Logging before flag parsing goes to stderr.\n",
      "W0824 14:27:57.749219 4608923072 deprecation.py:323] From /Users/allen/anaconda3/lib/python3.7/site-packages/tensorflow/python/compat/v2_compat.py:65: disable_resource_variables (from tensorflow.python.ops.variable_scope) is deprecated and will be removed in a future version.\n",
      "Instructions for updating:\n",
      "non-resource variables are not supported in the long term\n",
      "W0824 14:27:57.860726 4608923072 deprecation.py:323] From /Users/allen/anaconda3/lib/python3.7/site-packages/tensorflow/python/util/tf_should_use.py:193: initialize_all_variables (from tensorflow.python.ops.variables) is deprecated and will be removed after 2017-03-02.\n",
      "Instructions for updating:\n",
      "Use `tf.global_variables_initializer` instead.\n"
     ]
    },
    {
     "ename": "NameError",
     "evalue": "name 'mnist' is not defined",
     "output_type": "error",
     "traceback": [
      "\u001b[0;31m---------------------------------------------------------------------------\u001b[0m",
      "\u001b[0;31mNameError\u001b[0m                                 Traceback (most recent call last)",
      "\u001b[0;32m<ipython-input-7-0178d83eee38>\u001b[0m in \u001b[0;36m<module>\u001b[0;34m\u001b[0m\n\u001b[1;32m     36\u001b[0m \u001b[0;31m### training the model###\u001b[0m\u001b[0;34m\u001b[0m\u001b[0;34m\u001b[0m\u001b[0;34m\u001b[0m\u001b[0m\n\u001b[1;32m     37\u001b[0m \u001b[0;32mfor\u001b[0m \u001b[0mi\u001b[0m \u001b[0;32min\u001b[0m \u001b[0mrange\u001b[0m\u001b[0;34m(\u001b[0m\u001b[0;36m1000\u001b[0m\u001b[0;34m)\u001b[0m\u001b[0;34m:\u001b[0m\u001b[0;34m\u001b[0m\u001b[0;34m\u001b[0m\u001b[0m\n\u001b[0;32m---> 38\u001b[0;31m     \u001b[0mbatch_xs\u001b[0m\u001b[0;34m,\u001b[0m \u001b[0mbatch_ys\u001b[0m \u001b[0;34m=\u001b[0m \u001b[0mmnist\u001b[0m\u001b[0;34m.\u001b[0m\u001b[0mtrain\u001b[0m\u001b[0;34m.\u001b[0m\u001b[0mnext_batch\u001b[0m\u001b[0;34m(\u001b[0m\u001b[0;36m100\u001b[0m\u001b[0;34m)\u001b[0m\u001b[0;34m\u001b[0m\u001b[0;34m\u001b[0m\u001b[0m\n\u001b[0m\u001b[1;32m     39\u001b[0m              \u001b[0;31m#mnist有个method可以随机拿出一组数据\u001b[0m\u001b[0;34m\u001b[0m\u001b[0;34m\u001b[0m\u001b[0;34m\u001b[0m\u001b[0m\n\u001b[1;32m     40\u001b[0m     \u001b[0msess\u001b[0m\u001b[0;34m.\u001b[0m\u001b[0mrun\u001b[0m\u001b[0;34m(\u001b[0m\u001b[0mtrain_per_step\u001b[0m\u001b[0;34m,\u001b[0m\u001b[0mfeed_dict\u001b[0m\u001b[0;34m=\u001b[0m\u001b[0;34m{\u001b[0m\u001b[0mx\u001b[0m\u001b[0;34m:\u001b[0m\u001b[0mbatch_xs\u001b[0m\u001b[0;34m,\u001b[0m\u001b[0mt\u001b[0m\u001b[0;34m:\u001b[0m\u001b[0mbatch_ys\u001b[0m\u001b[0;34m}\u001b[0m\u001b[0;34m)\u001b[0m\u001b[0;34m\u001b[0m\u001b[0;34m\u001b[0m\u001b[0m\n",
      "\u001b[0;31mNameError\u001b[0m: name 'mnist' is not defined"
     ]
    }
   ],
   "source": [
    "import tensorflow.compat.v1 as tf\n",
    "tf.disable_v2_behavior()\n",
    "\n",
    "##initial variables needed be learned and hold the space for input\n",
    "x=tf.placeholder(tf.float32,[None , 784])#imagine\n",
    "W=tf.Variable(tf.zeros([784,10]))   #weight\n",
    "b=tf.Variable(tf.zeros([10]))     #biasis\n",
    "\n",
    "## build function\n",
    "y=tf.nn.softmax(tf.matmul(x,W)+b)##得到的直接是转换成softmax之后的值\n",
    "\n",
    "\n",
    "##build loss function and optimizer\n",
    "#true label of imagine t\n",
    "t=tf.placeholder(tf.float32,[None,10])\n",
    "cross_entropy=-tf.reduce_sum(t*tf.log(y))\n",
    "                    #reduce_sum指的是一行所有元素之和\n",
    "                    #这里我们在根据定义自己构建entropy\n",
    "## optimizer and object\n",
    "optimizer=tf.train.GradientDescentOptimizer(0.01)\n",
    "        #选择optimizer的类型\n",
    "train_per_step=optimizer.minimize(cross_entropy)\n",
    "        #optimizer的努力方向为最小化\n",
    "\n",
    "    \n",
    "    \n",
    "    \n",
    "    ####   session part  ###\n",
    "###initial model\n",
    "init=tf.initialize_all_variables()\n",
    "\n",
    "##active model\n",
    "sess=tf.Session() #给一个施展的空间\n",
    "sess.run(init)    #在这个空间里放入所有variable\n",
    "\n",
    "### training the model###\n",
    "for i in range(1000):\n",
    "    batch_xs, batch_ys = mnist.train.next_batch(100)\n",
    "             #mnist有个method可以随机拿出一组数据\n",
    "    sess.run(train_per_step,feed_dict={x:batch_xs,t:batch_ys})\n",
    "            #第一个参数是被optimizer优化的内容，\n",
    "            #第二个参数是被放到optimizer里面训练的内容（data,label)\n",
    "            \n",
    "            \n",
    "## variable => function => loss function => \n",
    "## optimizer => session => training\n",
    "\n",
    "\n",
    "##最关键的一点在于 optimizer 在session中每run一次，是优化一个step！！！\n",
    "##优化的目标是 variable！！！\n"
   ]
  },
  {
   "cell_type": "code",
   "execution_count": 15,
   "metadata": {},
   "outputs": [
    {
     "name": "stdout",
     "output_type": "stream",
     "text": [
      "0.917\n"
     ]
    }
   ],
   "source": [
    "##testing\n",
    "\n",
    "correct_prediction = tf.equal(tf.argmax(y,1),tf.argmax(t,1))\n",
    "accuracy = tf.reduce_mean(tf.cast(correct_prediction,\"float\"))\n",
    "\n",
    "\n",
    "print( sess.run(accuracy, feed_dict={x: mnist.test.images, \n",
    "                                    t: mnist.test.labels}))\n",
    "\n",
    "\n"
   ]
  },
  {
   "cell_type": "markdown",
   "metadata": {},
   "source": [
    "在这个过程中，我们使用的是机器学习的内容，对图像的matrix 与 label（vector）之间的线性回归的参数进行学习的过程，学习的方法使用的是梯度下降法。   \n",
    "\n",
    "即我们的object是： imagine matrix * weight+bias=label，  \n",
    "找到其中的weight和bias就行了。  \n",
    "  \n",
    "我们用梯度下降法逐渐逼近于该问题的最优解，而每一次的运行都是在session run一次optimizer。每run一次optimizer，我们的weight和bias就会被更新"
   ]
  }
 ],
 "metadata": {
  "kernelspec": {
   "display_name": "Python 3",
   "language": "python",
   "name": "python3"
  },
  "language_info": {
   "codemirror_mode": {
    "name": "ipython",
    "version": 3
   },
   "file_extension": ".py",
   "mimetype": "text/x-python",
   "name": "python",
   "nbconvert_exporter": "python",
   "pygments_lexer": "ipython3",
   "version": "3.7.3"
  }
 },
 "nbformat": 4,
 "nbformat_minor": 2
}
