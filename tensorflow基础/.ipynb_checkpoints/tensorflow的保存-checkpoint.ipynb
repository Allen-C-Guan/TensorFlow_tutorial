{
 "cells": [
  {
   "cell_type": "markdown",
   "metadata": {},
   "source": [
    "# Tensorflow的保存"
   ]
  },
  {
   "cell_type": "code",
   "execution_count": 28,
   "metadata": {},
   "outputs": [],
   "source": [
    "!pip install -q h5py pyyaml"
   ]
  },
  {
   "cell_type": "code",
   "execution_count": 1,
   "metadata": {},
   "outputs": [
    {
     "data": {
      "text/plain": [
       "'2.0.0-beta0'"
      ]
     },
     "execution_count": 1,
     "metadata": {},
     "output_type": "execute_result"
    }
   ],
   "source": [
    "from __future__ import absolute_import, division, print_function\n",
    "\n",
    "import os\n",
    "\n",
    "import tensorflow as tf\n",
    "from tensorflow import keras\n",
    "\n",
    "tf.__version__"
   ]
  },
  {
   "cell_type": "code",
   "execution_count": 30,
   "metadata": {},
   "outputs": [],
   "source": [
    "(train_images, train_labels), (test_images, test_labels) = tf.keras.datasets.mnist.load_data()\n",
    "\n",
    "train_labels = train_labels[:1000]\n",
    "test_labels = test_labels[:1000]\n",
    "\n",
    "train_images = train_images[:1000].reshape(-1, 28 * 28) / 255.0\n",
    "test_images = test_images[:1000].reshape(-1, 28 * 28) / 255.0"
   ]
  },
  {
   "cell_type": "code",
   "execution_count": 35,
   "metadata": {},
   "outputs": [
    {
     "data": {
      "text/plain": [
       "(1000, 784)"
      ]
     },
     "execution_count": 35,
     "metadata": {},
     "output_type": "execute_result"
    }
   ],
   "source": [
    "test_images.shape"
   ]
  },
  {
   "cell_type": "code",
   "execution_count": 33,
   "metadata": {},
   "outputs": [
    {
     "name": "stdout",
     "output_type": "stream",
     "text": [
      "Model: \"sequential_1\"\n",
      "_________________________________________________________________\n",
      "Layer (type)                 Output Shape              Param #   \n",
      "=================================================================\n",
      "dense_2 (Dense)              (None, 512)               401920    \n",
      "_________________________________________________________________\n",
      "dropout (Dropout)            (None, 512)               0         \n",
      "_________________________________________________________________\n",
      "dense_3 (Dense)              (None, 10)                5130      \n",
      "=================================================================\n",
      "Total params: 407,050\n",
      "Trainable params: 407,050\n",
      "Non-trainable params: 0\n",
      "_________________________________________________________________\n"
     ]
    }
   ],
   "source": [
    "# Returns a short sequential model\n",
    "def create_model():\n",
    "  model = tf.keras.models.Sequential([\n",
    "    keras.layers.Dense(512, activation=tf.nn.relu, input_shape=(784,)),\n",
    "    keras.layers.Dropout(0.2),\n",
    "    keras.layers.Dense(10, activation=tf.nn.softmax)\n",
    "  ])\n",
    "\n",
    "  model.compile(optimizer=tf.keras.optimizers.Adam(),\n",
    "                loss=tf.keras.losses.sparse_categorical_crossentropy,\n",
    "                metrics=['accuracy'])\n",
    "\n",
    "  return model\n",
    "\n",
    "# Create a basic model instance\n",
    "model = create_model()\n",
    "model.summary()"
   ]
  },
  {
   "cell_type": "code",
   "execution_count": 36,
   "metadata": {},
   "outputs": [
    {
     "name": "stdout",
     "output_type": "stream",
     "text": [
      "Train on 1000 samples, validate on 1000 samples\n",
      "Epoch 1/10\n",
      " 608/1000 [=================>............] - ETA: 0s - loss: 1.3954 - acc: 0.6102\n",
      "Epoch 00001: saving model to training_1/cp.ckpt\n",
      "1000/1000 [==============================] - 1s 546us/sample - loss: 1.1314 - acc: 0.6880 - val_loss: 0.6785 - val_acc: 0.8020\n",
      "Epoch 2/10\n",
      " 736/1000 [=====================>........] - ETA: 0s - loss: 0.4313 - acc: 0.8832\n",
      "Epoch 00002: saving model to training_1/cp.ckpt\n",
      "1000/1000 [==============================] - 0s 255us/sample - loss: 0.4115 - acc: 0.8920 - val_loss: 0.5199 - val_acc: 0.8370\n",
      "Epoch 3/10\n",
      " 928/1000 [==========================>...] - ETA: 0s - loss: 0.2767 - acc: 0.9256\n",
      "Epoch 00003: saving model to training_1/cp.ckpt\n",
      "1000/1000 [==============================] - 0s 304us/sample - loss: 0.2789 - acc: 0.9250 - val_loss: 0.4822 - val_acc: 0.8420\n",
      "Epoch 4/10\n",
      " 768/1000 [======================>.......] - ETA: 0s - loss: 0.2041 - acc: 0.9492\n",
      "Epoch 00004: saving model to training_1/cp.ckpt\n",
      "1000/1000 [==============================] - 0s 243us/sample - loss: 0.1984 - acc: 0.9490 - val_loss: 0.4603 - val_acc: 0.8520\n",
      "Epoch 5/10\n",
      " 832/1000 [=======================>......] - ETA: 0s - loss: 0.1691 - acc: 0.9579\n",
      "Epoch 00005: saving model to training_1/cp.ckpt\n",
      "1000/1000 [==============================] - 0s 382us/sample - loss: 0.1631 - acc: 0.9610 - val_loss: 0.4497 - val_acc: 0.8480\n",
      "Epoch 6/10\n",
      " 864/1000 [========================>.....] - ETA: 0s - loss: 0.1162 - acc: 0.9745\n",
      "Epoch 00006: saving model to training_1/cp.ckpt\n",
      "1000/1000 [==============================] - 0s 295us/sample - loss: 0.1229 - acc: 0.9730 - val_loss: 0.4308 - val_acc: 0.8550\n",
      "Epoch 7/10\n",
      " 640/1000 [==================>...........] - ETA: 0s - loss: 0.0914 - acc: 0.9828\n",
      "Epoch 00007: saving model to training_1/cp.ckpt\n",
      "1000/1000 [==============================] - 0s 246us/sample - loss: 0.0868 - acc: 0.9820 - val_loss: 0.4148 - val_acc: 0.8600\n",
      "Epoch 8/10\n",
      " 992/1000 [============================>.] - ETA: 0s - loss: 0.0612 - acc: 0.9940\n",
      "Epoch 00008: saving model to training_1/cp.ckpt\n",
      "1000/1000 [==============================] - 0s 297us/sample - loss: 0.0611 - acc: 0.9940 - val_loss: 0.4021 - val_acc: 0.8670\n",
      "Epoch 9/10\n",
      " 960/1000 [===========================>..] - ETA: 0s - loss: 0.0491 - acc: 0.9958\n",
      "Epoch 00009: saving model to training_1/cp.ckpt\n",
      "1000/1000 [==============================] - 0s 267us/sample - loss: 0.0482 - acc: 0.9960 - val_loss: 0.4252 - val_acc: 0.8600\n",
      "Epoch 10/10\n",
      " 672/1000 [===================>..........] - ETA: 0s - loss: 0.0341 - acc: 1.0000\n",
      "Epoch 00010: saving model to training_1/cp.ckpt\n",
      "1000/1000 [==============================] - 0s 241us/sample - loss: 0.0381 - acc: 1.0000 - val_loss: 0.4224 - val_acc: 0.8610\n"
     ]
    },
    {
     "data": {
      "text/plain": [
       "<tensorflow.python.keras.callbacks.History at 0x642259240>"
      ]
     },
     "execution_count": 36,
     "metadata": {},
     "output_type": "execute_result"
    }
   ],
   "source": [
    "checkpoint_path = \"training_1/cp.ckpt\"#取名：training_1/后面是格式\n",
    "checkpoint_dir = os.path.dirname(checkpoint_path)#获取当前绝对路径\n",
    "\n",
    "# Create checkpoint callback\n",
    "cp_callback = tf.keras.callbacks.ModelCheckpoint(checkpoint_path,#文件名\n",
    "                                                 save_weights_only=True,\n",
    "                                                 verbose=1)\n",
    "#建立一个object，class是：keras.callbacks.ModeCheckpoint\n",
    "    \n",
    "\n",
    "model = create_model()\n",
    "\n",
    "model.fit(train_images, train_labels,  epochs = 10,\n",
    "          validation_data = (test_images,test_labels),\n",
    "          callbacks = [cp_callback])  # pass callback to training\n",
    "#在fit里面也要选择保存callbacks=保存路径\n",
    "\n",
    "#用callback是的流程\n",
    "#1. 建立文件夹（path）\n",
    "#2. 起名字\n",
    "#3.建立一个callback的obj，class=keras.callbacks.ModelCheckpoint()\n",
    "#4..fit(callbacks=[obj])\n",
    "\n"
   ]
  },
  {
   "cell_type": "code",
   "execution_count": 37,
   "metadata": {},
   "outputs": [
    {
     "name": "stdout",
     "output_type": "stream",
     "text": [
      "checkpoint                  cp.ckpt.data-00001-of-00002\r\n",
      "cp.ckpt.data-00000-of-00002 cp.ckpt.index\r\n"
     ]
    }
   ],
   "source": [
    "!ls {checkpoint_dir}"
   ]
  },
  {
   "cell_type": "code",
   "execution_count": 38,
   "metadata": {},
   "outputs": [
    {
     "name": "stdout",
     "output_type": "stream",
     "text": [
      "1000/1000 [==============================] - 0s 89us/sample - loss: 2.3787 - acc: 0.1330\n",
      "Untrained model, accuracy: 13.30%\n"
     ]
    }
   ],
   "source": [
    "model = create_model()\n",
    "\n",
    "loss, acc = model.evaluate(test_images, test_labels)\n",
    "print(\"Untrained model, accuracy: {:5.2f}%\".format(100*acc))"
   ]
  },
  {
   "cell_type": "code",
   "execution_count": 39,
   "metadata": {},
   "outputs": [
    {
     "name": "stdout",
     "output_type": "stream",
     "text": [
      "1000/1000 [==============================] - 0s 61us/sample - loss: 0.4224 - acc: 0.8610\n",
      "Restored model, accuracy: 86.10%\n"
     ]
    }
   ],
   "source": [
    "model.load_weights(checkpoint_path)\n",
    "loss,acc = model.evaluate(test_images, test_labels)\n",
    "print(\"Restored model, accuracy: {:5.2f}%\".format(100*acc))\n",
    "\n",
    "#load weight 要从文件夹中导入。使用model.load_weights (文件夹obj)"
   ]
  },
  {
   "cell_type": "markdown",
   "metadata": {},
   "source": [
    "## 设置回调点 "
   ]
  },
  {
   "cell_type": "code",
   "execution_count": 49,
   "metadata": {},
   "outputs": [],
   "source": [
    "checkpoint_path=\"training_2/cp-{epoch:04d}.ckpt\"\n",
    "checkpoint_dir=os.path.dirname(checkpoint_path)\n",
    "\n",
    "cp_callback = tf.keras.callbacks.ModelCheckpoint(\n",
    "    checkpoint_path, verbose=1, save_weights_only=True,perid=5)\n",
    "#每5个iteration，建立一个独立的回调点\n",
    "\n",
    "\n"
   ]
  },
  {
   "cell_type": "code",
   "execution_count": 50,
   "metadata": {
    "collapsed": true
   },
   "outputs": [
    {
     "name": "stdout",
     "output_type": "stream",
     "text": [
      "\n",
      "Epoch 00001: saving model to training_2/cp-0001.ckpt\n",
      "\n",
      "Epoch 00002: saving model to training_2/cp-0002.ckpt\n",
      "\n",
      "Epoch 00003: saving model to training_2/cp-0003.ckpt\n",
      "\n",
      "Epoch 00004: saving model to training_2/cp-0004.ckpt\n",
      "\n",
      "Epoch 00005: saving model to training_2/cp-0005.ckpt\n",
      "\n",
      "Epoch 00006: saving model to training_2/cp-0006.ckpt\n",
      "\n",
      "Epoch 00007: saving model to training_2/cp-0007.ckpt\n",
      "\n",
      "Epoch 00008: saving model to training_2/cp-0008.ckpt\n",
      "\n",
      "Epoch 00009: saving model to training_2/cp-0009.ckpt\n",
      "\n",
      "Epoch 00010: saving model to training_2/cp-0010.ckpt\n",
      "\n",
      "Epoch 00011: saving model to training_2/cp-0011.ckpt\n",
      "\n",
      "Epoch 00012: saving model to training_2/cp-0012.ckpt\n",
      "\n",
      "Epoch 00013: saving model to training_2/cp-0013.ckpt\n",
      "\n",
      "Epoch 00014: saving model to training_2/cp-0014.ckpt\n",
      "\n",
      "Epoch 00015: saving model to training_2/cp-0015.ckpt\n",
      "\n",
      "Epoch 00016: saving model to training_2/cp-0016.ckpt\n",
      "\n",
      "Epoch 00017: saving model to training_2/cp-0017.ckpt\n",
      "\n",
      "Epoch 00018: saving model to training_2/cp-0018.ckpt\n",
      "\n",
      "Epoch 00019: saving model to training_2/cp-0019.ckpt\n",
      "\n",
      "Epoch 00020: saving model to training_2/cp-0020.ckpt\n",
      "\n",
      "Epoch 00021: saving model to training_2/cp-0021.ckpt\n",
      "\n",
      "Epoch 00022: saving model to training_2/cp-0022.ckpt\n",
      "\n",
      "Epoch 00023: saving model to training_2/cp-0023.ckpt\n",
      "\n",
      "Epoch 00024: saving model to training_2/cp-0024.ckpt\n",
      "\n",
      "Epoch 00025: saving model to training_2/cp-0025.ckpt\n",
      "\n",
      "Epoch 00026: saving model to training_2/cp-0026.ckpt\n",
      "\n",
      "Epoch 00027: saving model to training_2/cp-0027.ckpt\n",
      "\n",
      "Epoch 00028: saving model to training_2/cp-0028.ckpt\n",
      "\n",
      "Epoch 00029: saving model to training_2/cp-0029.ckpt\n",
      "\n",
      "Epoch 00030: saving model to training_2/cp-0030.ckpt\n",
      "\n",
      "Epoch 00031: saving model to training_2/cp-0031.ckpt\n",
      "\n",
      "Epoch 00032: saving model to training_2/cp-0032.ckpt\n",
      "\n",
      "Epoch 00033: saving model to training_2/cp-0033.ckpt\n",
      "\n",
      "Epoch 00034: saving model to training_2/cp-0034.ckpt\n",
      "\n",
      "Epoch 00035: saving model to training_2/cp-0035.ckpt\n",
      "\n",
      "Epoch 00036: saving model to training_2/cp-0036.ckpt\n",
      "\n",
      "Epoch 00037: saving model to training_2/cp-0037.ckpt\n",
      "\n",
      "Epoch 00038: saving model to training_2/cp-0038.ckpt\n",
      "\n",
      "Epoch 00039: saving model to training_2/cp-0039.ckpt\n",
      "\n",
      "Epoch 00040: saving model to training_2/cp-0040.ckpt\n",
      "\n",
      "Epoch 00041: saving model to training_2/cp-0041.ckpt\n",
      "\n",
      "Epoch 00042: saving model to training_2/cp-0042.ckpt\n",
      "\n",
      "Epoch 00043: saving model to training_2/cp-0043.ckpt\n",
      "\n",
      "Epoch 00044: saving model to training_2/cp-0044.ckpt\n",
      "\n",
      "Epoch 00045: saving model to training_2/cp-0045.ckpt\n",
      "\n",
      "Epoch 00046: saving model to training_2/cp-0046.ckpt\n",
      "\n",
      "Epoch 00047: saving model to training_2/cp-0047.ckpt\n",
      "\n",
      "Epoch 00048: saving model to training_2/cp-0048.ckpt\n",
      "\n",
      "Epoch 00049: saving model to training_2/cp-0049.ckpt\n",
      "\n",
      "Epoch 00050: saving model to training_2/cp-0050.ckpt\n"
     ]
    },
    {
     "data": {
      "text/plain": [
       "<tensorflow.python.keras.callbacks.History at 0x644473668>"
      ]
     },
     "execution_count": 50,
     "metadata": {},
     "output_type": "execute_result"
    }
   ],
   "source": [
    "model = create_model()\n",
    "model.fit(train_images,train_labels,epochs=50,\n",
    "         validation_data=(test_images,test_labels),\n",
    "         verbose=0,callbacks=[cp_callback])"
   ]
  },
  {
   "cell_type": "code",
   "execution_count": 51,
   "metadata": {
    "collapsed": true
   },
   "outputs": [
    {
     "name": "stdout",
     "output_type": "stream",
     "text": [
      "checkpoint                       cp-0026.ckpt.data-00000-of-00002\r\n",
      "cp-0001.ckpt.data-00000-of-00002 cp-0026.ckpt.data-00001-of-00002\r\n",
      "cp-0001.ckpt.data-00001-of-00002 cp-0026.ckpt.index\r\n",
      "cp-0001.ckpt.index               cp-0027.ckpt.data-00000-of-00002\r\n",
      "cp-0002.ckpt.data-00000-of-00002 cp-0027.ckpt.data-00001-of-00002\r\n",
      "cp-0002.ckpt.data-00001-of-00002 cp-0027.ckpt.index\r\n",
      "cp-0002.ckpt.index               cp-0028.ckpt.data-00000-of-00002\r\n",
      "cp-0003.ckpt.data-00000-of-00002 cp-0028.ckpt.data-00001-of-00002\r\n",
      "cp-0003.ckpt.data-00001-of-00002 cp-0028.ckpt.index\r\n",
      "cp-0003.ckpt.index               cp-0029.ckpt.data-00000-of-00002\r\n",
      "cp-0004.ckpt.data-00000-of-00002 cp-0029.ckpt.data-00001-of-00002\r\n",
      "cp-0004.ckpt.data-00001-of-00002 cp-0029.ckpt.index\r\n",
      "cp-0004.ckpt.index               cp-0030.ckpt.data-00000-of-00002\r\n",
      "cp-0005.ckpt.data-00000-of-00002 cp-0030.ckpt.data-00001-of-00002\r\n",
      "cp-0005.ckpt.data-00001-of-00002 cp-0030.ckpt.index\r\n",
      "cp-0005.ckpt.index               cp-0031.ckpt.data-00000-of-00002\r\n",
      "cp-0006.ckpt.data-00000-of-00002 cp-0031.ckpt.data-00001-of-00002\r\n",
      "cp-0006.ckpt.data-00001-of-00002 cp-0031.ckpt.index\r\n",
      "cp-0006.ckpt.index               cp-0032.ckpt.data-00000-of-00002\r\n",
      "cp-0007.ckpt.data-00000-of-00002 cp-0032.ckpt.data-00001-of-00002\r\n",
      "cp-0007.ckpt.data-00001-of-00002 cp-0032.ckpt.index\r\n",
      "cp-0007.ckpt.index               cp-0033.ckpt.data-00000-of-00002\r\n",
      "cp-0008.ckpt.data-00000-of-00002 cp-0033.ckpt.data-00001-of-00002\r\n",
      "cp-0008.ckpt.data-00001-of-00002 cp-0033.ckpt.index\r\n",
      "cp-0008.ckpt.index               cp-0034.ckpt.data-00000-of-00002\r\n",
      "cp-0009.ckpt.data-00000-of-00002 cp-0034.ckpt.data-00001-of-00002\r\n",
      "cp-0009.ckpt.data-00001-of-00002 cp-0034.ckpt.index\r\n",
      "cp-0009.ckpt.index               cp-0035.ckpt.data-00000-of-00002\r\n",
      "cp-0010.ckpt.data-00000-of-00002 cp-0035.ckpt.data-00001-of-00002\r\n",
      "cp-0010.ckpt.data-00001-of-00002 cp-0035.ckpt.index\r\n",
      "cp-0010.ckpt.index               cp-0036.ckpt.data-00000-of-00002\r\n",
      "cp-0011.ckpt.data-00000-of-00002 cp-0036.ckpt.data-00001-of-00002\r\n",
      "cp-0011.ckpt.data-00001-of-00002 cp-0036.ckpt.index\r\n",
      "cp-0011.ckpt.index               cp-0037.ckpt.data-00000-of-00002\r\n",
      "cp-0012.ckpt.data-00000-of-00002 cp-0037.ckpt.data-00001-of-00002\r\n",
      "cp-0012.ckpt.data-00001-of-00002 cp-0037.ckpt.index\r\n",
      "cp-0012.ckpt.index               cp-0038.ckpt.data-00000-of-00002\r\n",
      "cp-0013.ckpt.data-00000-of-00002 cp-0038.ckpt.data-00001-of-00002\r\n",
      "cp-0013.ckpt.data-00001-of-00002 cp-0038.ckpt.index\r\n",
      "cp-0013.ckpt.index               cp-0039.ckpt.data-00000-of-00002\r\n",
      "cp-0014.ckpt.data-00000-of-00002 cp-0039.ckpt.data-00001-of-00002\r\n",
      "cp-0014.ckpt.data-00001-of-00002 cp-0039.ckpt.index\r\n",
      "cp-0014.ckpt.index               cp-0040.ckpt.data-00000-of-00002\r\n",
      "cp-0015.ckpt.data-00000-of-00002 cp-0040.ckpt.data-00001-of-00002\r\n",
      "cp-0015.ckpt.data-00001-of-00002 cp-0040.ckpt.index\r\n",
      "cp-0015.ckpt.index               cp-0041.ckpt.data-00000-of-00002\r\n",
      "cp-0016.ckpt.data-00000-of-00002 cp-0041.ckpt.data-00001-of-00002\r\n",
      "cp-0016.ckpt.data-00001-of-00002 cp-0041.ckpt.index\r\n",
      "cp-0016.ckpt.index               cp-0042.ckpt.data-00000-of-00002\r\n",
      "cp-0017.ckpt.data-00000-of-00002 cp-0042.ckpt.data-00001-of-00002\r\n",
      "cp-0017.ckpt.data-00001-of-00002 cp-0042.ckpt.index\r\n",
      "cp-0017.ckpt.index               cp-0043.ckpt.data-00000-of-00002\r\n",
      "cp-0018.ckpt.data-00000-of-00002 cp-0043.ckpt.data-00001-of-00002\r\n",
      "cp-0018.ckpt.data-00001-of-00002 cp-0043.ckpt.index\r\n",
      "cp-0018.ckpt.index               cp-0044.ckpt.data-00000-of-00002\r\n",
      "cp-0019.ckpt.data-00000-of-00002 cp-0044.ckpt.data-00001-of-00002\r\n",
      "cp-0019.ckpt.data-00001-of-00002 cp-0044.ckpt.index\r\n",
      "cp-0019.ckpt.index               cp-0045.ckpt.data-00000-of-00002\r\n",
      "cp-0020.ckpt.data-00000-of-00002 cp-0045.ckpt.data-00001-of-00002\r\n",
      "cp-0020.ckpt.data-00001-of-00002 cp-0045.ckpt.index\r\n",
      "cp-0020.ckpt.index               cp-0046.ckpt.data-00000-of-00002\r\n",
      "cp-0021.ckpt.data-00000-of-00002 cp-0046.ckpt.data-00001-of-00002\r\n",
      "cp-0021.ckpt.data-00001-of-00002 cp-0046.ckpt.index\r\n",
      "cp-0021.ckpt.index               cp-0047.ckpt.data-00000-of-00002\r\n",
      "cp-0022.ckpt.data-00000-of-00002 cp-0047.ckpt.data-00001-of-00002\r\n",
      "cp-0022.ckpt.data-00001-of-00002 cp-0047.ckpt.index\r\n",
      "cp-0022.ckpt.index               cp-0048.ckpt.data-00000-of-00002\r\n",
      "cp-0023.ckpt.data-00000-of-00002 cp-0048.ckpt.data-00001-of-00002\r\n",
      "cp-0023.ckpt.data-00001-of-00002 cp-0048.ckpt.index\r\n",
      "cp-0023.ckpt.index               cp-0049.ckpt.data-00000-of-00002\r\n",
      "cp-0024.ckpt.data-00000-of-00002 cp-0049.ckpt.data-00001-of-00002\r\n",
      "cp-0024.ckpt.data-00001-of-00002 cp-0049.ckpt.index\r\n",
      "cp-0024.ckpt.index               cp-0050.ckpt.data-00000-of-00002\r\n",
      "cp-0025.ckpt.data-00000-of-00002 cp-0050.ckpt.data-00001-of-00002\r\n",
      "cp-0025.ckpt.data-00001-of-00002 cp-0050.ckpt.index\r\n",
      "cp-0025.ckpt.index\r\n"
     ]
    }
   ],
   "source": [
    "! ls {checkpoint_dir}"
   ]
  },
  {
   "cell_type": "code",
   "execution_count": 52,
   "metadata": {},
   "outputs": [
    {
     "data": {
      "text/plain": [
       "'training_2/cp-0050.ckpt'"
      ]
     },
     "execution_count": 52,
     "metadata": {},
     "output_type": "execute_result"
    }
   ],
   "source": [
    "latest = tf.train.latest_checkpoint(checkpoint_dir)\n",
    "    #从文件目录中拿到最后一个check点\n",
    "latest"
   ]
  },
  {
   "cell_type": "code",
   "execution_count": 53,
   "metadata": {},
   "outputs": [
    {
     "name": "stdout",
     "output_type": "stream",
     "text": [
      "1000/1000 [==============================] - 0s 121us/sample - loss: 0.4907 - acc: 0.8790\n",
      "Restored model, accuracy: 87.90%\n"
     ]
    }
   ],
   "source": [
    "model = create_model()\n",
    "model.load_weights(latest)\n",
    "loss, acc = model.evaluate(test_images, test_labels)\n",
    "print(\"Restored model, accuracy: {:5.2f}%\".format(100*acc))"
   ]
  },
  {
   "cell_type": "markdown",
   "metadata": {},
   "source": [
    "### 手动保存代码"
   ]
  },
  {
   "cell_type": "code",
   "execution_count": 58,
   "metadata": {},
   "outputs": [
    {
     "name": "stdout",
     "output_type": "stream",
     "text": [
      "1000/1000 [==============================] - 0s 123us/sample - loss: 0.4907 - acc: 0.8790\n",
      "Restored model, accuracy: 87.90%\n"
     ]
    }
   ],
   "source": [
    "# Save the weights\n",
    "model.save_weights('./checkpoints/my_checkpoint')\n",
    "    #文件目录 ./表示当前目录后面每多一个/，多个子目录,最后一个是文件名\n",
    "\n",
    "# Restore the weights\n",
    "model = create_model()\n",
    "model.load_weights('./checkpoints/my_checkpoint')\n",
    "\n",
    "loss,acc = model.evaluate(test_images, test_labels)\n",
    "print(\"Restored model, accuracy: {:5.2f}%\".format(100*acc))"
   ]
  },
  {
   "cell_type": "markdown",
   "metadata": {},
   "source": [
    "### 保存整个模型"
   ]
  },
  {
   "cell_type": "code",
   "execution_count": 59,
   "metadata": {},
   "outputs": [
    {
     "name": "stdout",
     "output_type": "stream",
     "text": [
      "Epoch 1/5\n",
      "1000/1000 [==============================] - 0s 259us/sample - loss: 1.1622 - acc: 0.6710\n",
      "Epoch 2/5\n",
      "1000/1000 [==============================] - 0s 130us/sample - loss: 0.4223 - acc: 0.8890\n",
      "Epoch 3/5\n",
      "1000/1000 [==============================] - 0s 217us/sample - loss: 0.2959 - acc: 0.9210\n",
      "Epoch 4/5\n",
      "1000/1000 [==============================] - 0s 173us/sample - loss: 0.2055 - acc: 0.9450\n",
      "Epoch 5/5\n",
      "1000/1000 [==============================] - 0s 125us/sample - loss: 0.1482 - acc: 0.9720\n"
     ]
    }
   ],
   "source": [
    "model = create_model()\n",
    "\n",
    "model.fit(train_images, train_labels, epochs=5)\n",
    "\n",
    "# Save entire model to a HDF5 file\n",
    "model.save('my_model.h5')\n",
    "#就用这一句话就可以save全部的模型，但是拓展名一定是 .h5的格式"
   ]
  },
  {
   "cell_type": "code",
   "execution_count": 60,
   "metadata": {},
   "outputs": [
    {
     "name": "stderr",
     "output_type": "stream",
     "text": [
      "W0813 23:02:21.777347 4525512128 deprecation.py:506] From /Users/allen/anaconda3/lib/python3.7/site-packages/tensorflow/python/ops/init_ops.py:97: calling GlorotUniform.__init__ (from tensorflow.python.ops.init_ops) with dtype is deprecated and will be removed in a future version.\n",
      "Instructions for updating:\n",
      "Call initializer instance with the dtype argument instead of passing it to the constructor\n",
      "W0813 23:02:21.779468 4525512128 deprecation.py:506] From /Users/allen/anaconda3/lib/python3.7/site-packages/tensorflow/python/ops/init_ops.py:97: calling Zeros.__init__ (from tensorflow.python.ops.init_ops) with dtype is deprecated and will be removed in a future version.\n",
      "Instructions for updating:\n",
      "Call initializer instance with the dtype argument instead of passing it to the constructor\n"
     ]
    },
    {
     "name": "stdout",
     "output_type": "stream",
     "text": [
      "Model: \"sequential_13\"\n",
      "_________________________________________________________________\n",
      "Layer (type)                 Output Shape              Param #   \n",
      "=================================================================\n",
      "dense_26 (Dense)             (None, 512)               401920    \n",
      "_________________________________________________________________\n",
      "dropout_12 (Dropout)         (None, 512)               0         \n",
      "_________________________________________________________________\n",
      "dense_27 (Dense)             (None, 10)                5130      \n",
      "=================================================================\n",
      "Total params: 407,050\n",
      "Trainable params: 407,050\n",
      "Non-trainable params: 0\n",
      "_________________________________________________________________\n"
     ]
    }
   ],
   "source": [
    "# Recreate the exact same model, including weights and optimizer.\n",
    "new_model = keras.models.load_model('my_model.h5')\n",
    "new_model.summary()"
   ]
  },
  {
   "cell_type": "code",
   "execution_count": 61,
   "metadata": {},
   "outputs": [
    {
     "name": "stdout",
     "output_type": "stream",
     "text": [
      "1000/1000 [==============================] - 0s 134us/sample - loss: 0.4479 - acc: 0.8550\n",
      "Restored model, accuracy: 85.50%\n"
     ]
    }
   ],
   "source": [
    "loss, acc = new_model.evaluate(test_images, test_labels)\n",
    "print(\"Restored model, accuracy: {:5.2f}%\".format(100*acc))"
   ]
  },
  {
   "cell_type": "markdown",
   "metadata": {},
   "source": [
    "\n",
    "\n",
    "此技巧可保存以下所有内容：\n",
    "\n",
    "权重值\n",
    "\n",
    "模型配置（架构）\n",
    "\n",
    "优化器配置\n",
    "\n",
    "Keras 通过检查架构来保存模型。目前，它无法保存 TensorFlow 优化器（来自tf.train）。\n",
    "\n",
    "使用此类优化器时，您需要在加载模型后对其进行重新编译，使优化器的状态变松散"
   ]
  },
  {
   "cell_type": "code",
   "execution_count": null,
   "metadata": {},
   "outputs": [],
   "source": []
  }
 ],
 "metadata": {
  "kernelspec": {
   "display_name": "Python 3",
   "language": "python",
   "name": "python3"
  },
  "language_info": {
   "codemirror_mode": {
    "name": "ipython",
    "version": 3
   },
   "file_extension": ".py",
   "mimetype": "text/x-python",
   "name": "python",
   "nbconvert_exporter": "python",
   "pygments_lexer": "ipython3",
   "version": "3.7.3"
  }
 },
 "nbformat": 4,
 "nbformat_minor": 2
}
