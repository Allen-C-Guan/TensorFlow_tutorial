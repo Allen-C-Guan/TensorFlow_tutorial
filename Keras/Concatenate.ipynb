{
 "cells": [
  {
   "cell_type": "markdown",
   "metadata": {},
   "source": [
    "## keras.concatenate的用法\n",
    "即让tensor在对应维度上相加的一种方法。"
   ]
  },
  {
   "cell_type": "code",
   "execution_count": 32,
   "metadata": {},
   "outputs": [
    {
     "name": "stdout",
     "output_type": "stream",
     "text": [
      "[[[[ 1  2  9]\n",
      "   [ 2  3  9]]\n",
      "\n",
      "  [[ 4  4  9]\n",
      "   [ 5  3  9]]]\n",
      "\n",
      "\n",
      " [[[11 12  9]\n",
      "   [12 13  9]]\n",
      "\n",
      "  [[14  4  9]\n",
      "   [15 13  9]]]]\n"
     ]
    },
    {
     "data": {
      "text/plain": [
       "(2, 2, 2, 3)"
      ]
     },
     "execution_count": 32,
     "metadata": {},
     "output_type": "execute_result"
    }
   ],
   "source": [
    "import numpy as np\n",
    "import keras.backend as K\n",
    "import tensorflow.compat.v1 as tf\n",
    "tf.disable_v2_behavior()\n",
    "\n",
    "a=np.array([[[[1, 2,9], [2, 3,9]], [[4, 4,9], [5, 3,9]]],[[[11, 12,9], [12, 13,9]], [[14, 4,9], [15, 13,9]]]])\n",
    "print(a)\n",
    "a.shape\n"
   ]
  },
  {
   "cell_type": "code",
   "execution_count": 28,
   "metadata": {
    "scrolled": true
   },
   "outputs": [
    {
     "name": "stdout",
     "output_type": "stream",
     "text": [
      "[[[[  7   4   9]\n",
      "   [  8   4   9]]\n",
      "\n",
      "  [[  2  10   9]\n",
      "   [ 15  11   9]]]\n",
      "\n",
      "\n",
      " [[[ 17  14   9]\n",
      "   [ 18  14   9]]\n",
      "\n",
      "  [[ 12  10   9]\n",
      "   [115 111   9]]]]\n"
     ]
    }
   ],
   "source": [
    "b=np.array([[[[7, 4,9], [8, 4,9]], [[2, 10,9], [15, 11,9]]],[[[17, 14,9], [18, 14,9]], [[12, 10,9], [115, 111,9]]]])\n",
    "print( b)"
   ]
  },
  {
   "cell_type": "code",
   "execution_count": 36,
   "metadata": {},
   "outputs": [
    {
     "name": "stdout",
     "output_type": "stream",
     "text": [
      "axis = 0\n",
      " [[[[  1.   2.   9.]\n",
      "   [  2.   3.   9.]]\n",
      "\n",
      "  [[  4.   4.   9.]\n",
      "   [  5.   3.   9.]]]\n",
      "\n",
      "\n",
      " [[[ 11.  12.   9.]\n",
      "   [ 12.  13.   9.]]\n",
      "\n",
      "  [[ 14.   4.   9.]\n",
      "   [ 15.  13.   9.]]]\n",
      "\n",
      "\n",
      " [[[  7.   4.   9.]\n",
      "   [  8.   4.   9.]]\n",
      "\n",
      "  [[  2.  10.   9.]\n",
      "   [ 15.  11.   9.]]]\n",
      "\n",
      "\n",
      " [[[ 17.  14.   9.]\n",
      "   [ 18.  14.   9.]]\n",
      "\n",
      "  [[ 12.  10.   9.]\n",
      "   [115. 111.   9.]]]]\n",
      "(4, 2, 2, 3)\n",
      "\n",
      "\n",
      "\n",
      "\n",
      "axis = 1\n",
      " [[[[  1.   2.   9.]\n",
      "   [  2.   3.   9.]]\n",
      "\n",
      "  [[  4.   4.   9.]\n",
      "   [  5.   3.   9.]]\n",
      "\n",
      "  [[  7.   4.   9.]\n",
      "   [  8.   4.   9.]]\n",
      "\n",
      "  [[  2.  10.   9.]\n",
      "   [ 15.  11.   9.]]]\n",
      "\n",
      "\n",
      " [[[ 11.  12.   9.]\n",
      "   [ 12.  13.   9.]]\n",
      "\n",
      "  [[ 14.   4.   9.]\n",
      "   [ 15.  13.   9.]]\n",
      "\n",
      "  [[ 17.  14.   9.]\n",
      "   [ 18.  14.   9.]]\n",
      "\n",
      "  [[ 12.  10.   9.]\n",
      "   [115. 111.   9.]]]]\n",
      "(2, 4, 2, 3)\n",
      "\n",
      "\n",
      "\n",
      "\n",
      "axis = 2\n",
      " [[[[  1.   2.   9.]\n",
      "   [  2.   3.   9.]\n",
      "   [  7.   4.   9.]\n",
      "   [  8.   4.   9.]]\n",
      "\n",
      "  [[  4.   4.   9.]\n",
      "   [  5.   3.   9.]\n",
      "   [  2.  10.   9.]\n",
      "   [ 15.  11.   9.]]]\n",
      "\n",
      "\n",
      " [[[ 11.  12.   9.]\n",
      "   [ 12.  13.   9.]\n",
      "   [ 17.  14.   9.]\n",
      "   [ 18.  14.   9.]]\n",
      "\n",
      "  [[ 14.   4.   9.]\n",
      "   [ 15.  13.   9.]\n",
      "   [ 12.  10.   9.]\n",
      "   [115. 111.   9.]]]]\n",
      "(2, 2, 4, 3)\n",
      "\n",
      "\n",
      "\n",
      "\n",
      "axis = 3\n",
      " [[[[  1.   2.   9.   7.   4.   9.]\n",
      "   [  2.   3.   9.   8.   4.   9.]]\n",
      "\n",
      "  [[  4.   4.   9.   2.  10.   9.]\n",
      "   [  5.   3.   9.  15.  11.   9.]]]\n",
      "\n",
      "\n",
      " [[[ 11.  12.   9.  17.  14.   9.]\n",
      "   [ 12.  13.   9.  18.  14.   9.]]\n",
      "\n",
      "  [[ 14.   4.   9.  12.  10.   9.]\n",
      "   [ 15.  13.   9. 115. 111.   9.]]]]\n",
      "(2, 2, 2, 6)\n"
     ]
    }
   ],
   "source": [
    "\n",
    "t1 = K.variable(a)\n",
    "t2 = K.variable(b)\n",
    "d0 = K.concatenate([t1 , t2] , axis=0)\n",
    "d1 = K.concatenate([t1 , t2] , axis=1)\n",
    "d2 = K.concatenate([t1 , t2] , axis=2)\n",
    "d3 = K.concatenate([t1 , t2] , axis=3)\n",
    " \n",
    "init = tf.global_variables_initializer()\n",
    "with tf.Session() as sess:\n",
    "    sess.run(init)\n",
    "    \n",
    "    print(\"axis = 0\\n\",sess.run(d0))\n",
    "    print(sess.run(d0).shape)\n",
    "    print(\"\\n\\n\\n\")\n",
    "    print(\"axis = 1\\n\",sess.run(d1))\n",
    "    print(sess.run(d1).shape)\n",
    "    print(\"\\n\\n\\n\")\n",
    "    print(\"axis = 2\\n\",sess.run(d2))\n",
    "    print(sess.run(d2).shape)\n",
    "    print(\"\\n\\n\\n\")\n",
    "    print(\"axis = 3\\n\",sess.run(d3))\n",
    "    print(sess.run(d3).shape)\n",
    "\n"
   ]
  },
  {
   "cell_type": "code",
   "execution_count": 20,
   "metadata": {},
   "outputs": [
    {
     "name": "stdout",
     "output_type": "stream",
     "text": [
      "axis = 1\n",
      " [[[[  1.   2.]\n",
      "   [  2.   3.]]\n",
      "\n",
      "  [[  4.   4.]\n",
      "   [  5.   3.]]\n",
      "\n",
      "  [[  7.   4.]\n",
      "   [  8.   4.]]\n",
      "\n",
      "  [[  2.  10.]\n",
      "   [ 15.  11.]]]\n",
      "\n",
      "\n",
      " [[[ 11.  12.]\n",
      "   [ 12.  13.]]\n",
      "\n",
      "  [[ 14.   4.]\n",
      "   [ 15.  13.]]\n",
      "\n",
      "  [[ 17.  14.]\n",
      "   [ 18.  14.]]\n",
      "\n",
      "  [[ 12.  10.]\n",
      "   [115. 111.]]]]\n",
      "axis = 2\n",
      " [[[[  1.   2.]\n",
      "   [  2.   3.]\n",
      "   [  7.   4.]\n",
      "   [  8.   4.]]\n",
      "\n",
      "  [[  4.   4.]\n",
      "   [  5.   3.]\n",
      "   [  2.  10.]\n",
      "   [ 15.  11.]]]\n",
      "\n",
      "\n",
      " [[[ 11.  12.]\n",
      "   [ 12.  13.]\n",
      "   [ 17.  14.]\n",
      "   [ 18.  14.]]\n",
      "\n",
      "  [[ 14.   4.]\n",
      "   [ 15.  13.]\n",
      "   [ 12.  10.]\n",
      "   [115. 111.]]]]\n",
      "axis = 3\n",
      " [[[[  1.   2.   7.   4.]\n",
      "   [  2.   3.   8.   4.]]\n",
      "\n",
      "  [[  4.   4.   2.  10.]\n",
      "   [  5.   3.  15.  11.]]]\n",
      "\n",
      "\n",
      " [[[ 11.  12.  17.  14.]\n",
      "   [ 12.  13.  18.  14.]]\n",
      "\n",
      "  [[ 14.   4.  12.  10.]\n",
      "   [ 15.  13. 115. 111.]]]]\n"
     ]
    }
   ],
   "source": [
    "t1 = K.variable(np.array([[[[1, 2], [2, 3]], [[4, 4], [5, 3]]],[[[11, 12], [12, 13]], [[14, 4], [15, 13]]]]))\n",
    "t2 = K.variable(np.array([[[[7, 4], [8, 4]], [[2, 10], [15, 11]]],[[[17, 14], [18, 14]], [[12, 10], [115, 111]]]]))\n",
    "d0 = K.concatenate([t1 , t2] , axis=-2)\n",
    "d1 = K.concatenate([t1 , t2] , axis=1)\n",
    "d2 = K.concatenate([t1 , t2] , axis=3)\n",
    "d3 = K.concatenate([t1 , t2] , axis=2)\n",
    " \n",
    "init = tf.global_variables_initializer()\n",
    "with tf.Session() as sess:\n",
    "    sess.run(init)\n",
    "    \n",
    "    print(\"axis = 1\\n\",sess.run(d1))\n",
    "    print(\"axis = 2\\n\",sess.run(d3))\n",
    "    print(\"axis = 3\\n\",sess.run(d2))\n",
    "    "
   ]
  },
  {
   "cell_type": "markdown",
   "metadata": {},
   "source": [
    "每个矩阵中，相应的维度看成一个整体拿出来，合并为一个更长的维度。\n",
    "因此我们可以把concatente 看成在相应维度上的加长！！！。即 （2，3，4，5） 和（2，5，4，5）如果在第一维度上串联，那么得到的一定是（2，3+5，4，5）的维度上的向量。"
   ]
  },
  {
   "cell_type": "code",
   "execution_count": null,
   "metadata": {},
   "outputs": [],
   "source": []
  }
 ],
 "metadata": {
  "kernelspec": {
   "display_name": "Python 3",
   "language": "python",
   "name": "python3"
  },
  "language_info": {
   "codemirror_mode": {
    "name": "ipython",
    "version": 3
   },
   "file_extension": ".py",
   "mimetype": "text/x-python",
   "name": "python",
   "nbconvert_exporter": "python",
   "pygments_lexer": "ipython3",
   "version": "3.7.3"
  }
 },
 "nbformat": 4,
 "nbformat_minor": 2
}
