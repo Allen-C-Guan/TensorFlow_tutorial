{
 "cells": [
  {
   "cell_type": "markdown",
   "metadata": {},
   "source": [
    "# 定制化训练：基础\n",
    "这是所有优化问题的基础！ 建立模型，寻找模型的参数。\\\n",
    "方法为：利用对loss function中的模型参数求导数，去定梯度。迭代下降。\n",
    "\n",
    "实现为：\n",
    "1. model主要是用来定义数学模型的（用线性还是多项式来拟合模型），一个callable的class，__call__中定义了函数的参数模型。\n",
    "2. loss function，定义了(pred(model) - true)\n",
    "3. optimizer实现两个功能。\n",
    "    1. 对参数求导：求的是loss function对param的导数\n",
    "    2. 迭代更改参数：param_new = old_param + （-梯度）*步长"
   ]
  },
  {
   "cell_type": "code",
   "execution_count": 1,
   "metadata": {},
   "outputs": [],
   "source": [
    "from __future__ import absolute_import, division, print_function, unicode_literals\n",
    "\n",
    "try:\n",
    "  # Colab only\n",
    "  %tensorflow_version 2.x\n",
    "except Exception:\n",
    "    pass\n",
    "import tensorflow as tf"
   ]
  },
  {
   "cell_type": "markdown",
   "metadata": {},
   "source": [
    "## Tensor"
   ]
  },
  {
   "cell_type": "code",
   "execution_count": 2,
   "metadata": {},
   "outputs": [
    {
     "name": "stdout",
     "output_type": "stream",
     "text": [
      "tf.Tensor(\n",
      "[[2. 2. 2. 2. 2. 2. 2. 2. 2. 2.]\n",
      " [2. 2. 2. 2. 2. 2. 2. 2. 2. 2.]\n",
      " [2. 2. 2. 2. 2. 2. 2. 2. 2. 2.]\n",
      " [2. 2. 2. 2. 2. 2. 2. 2. 2. 2.]\n",
      " [2. 2. 2. 2. 2. 2. 2. 2. 2. 2.]\n",
      " [2. 2. 2. 2. 2. 2. 2. 2. 2. 2.]\n",
      " [2. 2. 2. 2. 2. 2. 2. 2. 2. 2.]\n",
      " [2. 2. 2. 2. 2. 2. 2. 2. 2. 2.]\n",
      " [2. 2. 2. 2. 2. 2. 2. 2. 2. 2.]\n",
      " [2. 2. 2. 2. 2. 2. 2. 2. 2. 2.]], shape=(10, 10), dtype=float32)\n"
     ]
    }
   ],
   "source": [
    "# 使用 python 状态\n",
    "x = tf.zeros([10, 10])\n",
    "# 等价于 x = x + 2, 不改变原本 x 的值\n",
    "x +=2  \n",
    "print(x)"
   ]
  },
  {
   "cell_type": "markdown",
   "metadata": {},
   "source": [
    "## variable\n",
    "variable是一个object,而这个obj不但存储着数值，而且自身就有一些method，可以直接对里面存储对数值做一些操作。\\\n",
    "可以理解为是一个封装了的数值。\n",
    "\n",
    "于constant不同的是，constant需要手动watch，而variable会被GradientTape自动跟踪。我们不需要手动watch variable.\\\n",
    "当计算梯度时，会自动跟踪使用变量的计算过程。用变量来表示向量时，TensorFlow 会默认使用稀疏更新，这样可以带来计算和存储高效性。"
   ]
  },
  {
   "cell_type": "code",
   "execution_count": 3,
   "metadata": {},
   "outputs": [],
   "source": [
    "v = tf.Variable(1.0)\n",
    "assert v.numpy() == 1.0\n",
    "#当我们给variable初始化的时候，可以给变量赋值\n",
    "\n",
    "\n",
    "\n",
    "# 重新赋值\n",
    "v.assign(3.0)\n",
    "assert v.numpy() == 3.0\n",
    "#我们利用assign函数对变量重新赋值。（这就是obj和primite的区别）\n",
    "\n",
    "# 在 TensorFlow 操作中使用 `v`，比如  tf.square() 和重新赋值\n",
    "v.assign(tf.square(v))\n",
    "assert v.numpy() == 9.0"
   ]
  },
  {
   "cell_type": "markdown",
   "metadata": {},
   "source": [
    "## 建立一个线性模型。\n",
    "我们使用低级API（Tensor，Variable，GradientTape）来自定义一个线性模型。\n",
    "\n",
    "常用的步骤如下：\n",
    "1. 定义模型\n",
    "2. 定义loss function\n",
    "3. 获取dataset\n",
    "4. 通过dataset，利用optimizer来调整变量的值来优化loss function。"
   ]
  },
  {
   "cell_type": "markdown",
   "metadata": {},
   "source": [
    "### 定义模型\n",
    "我们可以把模型封装在class里面，从而让代码更加的模块化。"
   ]
  },
  {
   "cell_type": "code",
   "execution_count": 4,
   "metadata": {},
   "outputs": [],
   "source": [
    "# 初值 model(x) = 5*x + 0\n",
    "class Model(object):\n",
    "    def __init__(self):\n",
    "        self.W = tf.Variable(5.0)  #都直接定义成variable的形式，让微分器自动的去追踪\n",
    "        self.b = tf.Variable(0.0)\n",
    "        \n",
    "    def __call__(self,x):          #这是一个可以被call的class\n",
    "        return self.W*x+self.b\n",
    "    \n"
   ]
  },
  {
   "cell_type": "markdown",
   "metadata": {},
   "source": [
    "尝试一下"
   ]
  },
  {
   "cell_type": "code",
   "execution_count": 5,
   "metadata": {},
   "outputs": [
    {
     "data": {
      "text/plain": [
       "15.0"
      ]
     },
     "execution_count": 5,
     "metadata": {},
     "output_type": "execute_result"
    }
   ],
   "source": [
    "model = Model()##实例化调用的是init函数\n",
    "model(3).numpy()#call的时候执行的是__call__函数。"
   ]
  },
  {
   "cell_type": "markdown",
   "metadata": {},
   "source": [
    "### Loss function\n",
    "建立函数：loss(model_output,label)\\\n",
    "在tensorflow里面reduce前缀都表示降维度计算，而默认的维度是降为一维度。也可以选择按行或者按列降低维度。"
   ]
  },
  {
   "cell_type": "code",
   "execution_count": 6,
   "metadata": {},
   "outputs": [],
   "source": [
    "def loss(predicted_y,desired_y):\n",
    "    return tf.reduce_mean(tf.square(predicted_y - desired_y))"
   ]
  },
  {
   "cell_type": "markdown",
   "metadata": {},
   "source": [
    "试一下"
   ]
  },
  {
   "cell_type": "code",
   "execution_count": 7,
   "metadata": {},
   "outputs": [
    {
     "data": {
      "text/plain": [
       "1"
      ]
     },
     "execution_count": 7,
     "metadata": {},
     "output_type": "execute_result"
    }
   ],
   "source": [
    "loss(3,4).numpy()"
   ]
  },
  {
   "cell_type": "markdown",
   "metadata": {},
   "source": [
    "### 创建训练的dataset（with noise）"
   ]
  },
  {
   "cell_type": "code",
   "execution_count": 8,
   "metadata": {},
   "outputs": [],
   "source": [
    "#训练函数方程是 f(x) = 3*x+2\n",
    "TRUE_W = 3.0\n",
    "TRUE_b = 2.0\n",
    "NUM_EXAMPLES = 1000\n",
    "\n",
    "inputs  = tf.random.normal(shape=[NUM_EXAMPLES])#x\n",
    "noise   = tf.random.normal(shape=[NUM_EXAMPLES])#noise\n",
    "outputs = inputs * TRUE_W + TRUE_b + noise #3*x+b+noise\n",
    "\n",
    "#这里由于用完全相同的函数随机生成的，noise的平均值并不一定比input的平均值小。"
   ]
  },
  {
   "cell_type": "code",
   "execution_count": 9,
   "metadata": {},
   "outputs": [
    {
     "data": {
      "text/plain": [
       "<Figure size 640x480 with 1 Axes>"
      ]
     },
     "metadata": {},
     "output_type": "display_data"
    },
    {
     "name": "stdout",
     "output_type": "stream",
     "text": [
      "Current loss: \n",
      "9.239105\n"
     ]
    }
   ],
   "source": [
    "import matplotlib.pyplot as plt\n",
    "\n",
    "plt.scatter(inputs, outputs, c='b')\n",
    "plt.scatter(inputs, model(inputs), c='r')\n",
    "plt.show()\n",
    "\n",
    "print('Current loss: '),\n",
    "print(loss(model(inputs), outputs).numpy())"
   ]
  },
  {
   "cell_type": "markdown",
   "metadata": {},
   "source": [
    "### 定义optimizer\n",
    "optimizer的作用是，每次使用optimizer一次，都会完成一步的优化。\n",
    "\n",
    "optimizer的设置可以直接利用tf.train.Optimizer来实现，里面有大量已经写好的optimizer。这里我们先自己写。\n",
    "\n",
    "写梯度下降法的思想是：\n",
    "1. 在微分器中建立loss function与变量weight和bias之间的关系，常量是input，output.\\\n",
    "    具体方程为：new_loss = loss(model(input)，real_label)\n",
    "    \n",
    "    \n",
    "2. 调用微分器求出loss function的偏导数。\n",
    "\n",
    "\n",
    "3. 更改model中变量的值。\\\n",
    "    new_value = value - step_length * dx\n",
    "    \n",
    "    \n",
    "其思路是：利用用gradientTape来求loss function(model输出于真实输出的差值) 对 model(数学模型）中的系数的梯度。 而后用梯度作为方向，取一个步长来下降。"
   ]
  },
  {
   "cell_type": "code",
   "execution_count": 16,
   "metadata": {},
   "outputs": [],
   "source": [
    "def optimizer(model,inputs,outputs,learning_rate):\n",
    "    with tf.GradientTape() as t:\n",
    "        current_loss = loss(model(inputs),outputs)\n",
    "        #知识点：我们通过函数的调用即model()，可以在允许在微分器里面调入跳出\n",
    "        #因此，这里lossfunction是关于variable.W,与variable.b的函数。\n",
    "        #input和output不会被追踪，因为他们是constant（primate）类型\n",
    "        #tape只最终variable和watch的对象。\n",
    "        \n",
    "    dw,db = t.gradient(current_loss,[model.W,model.b])\n",
    "    #又是一个知识点，正如上面所说，微分器会自动记录所有参与到计算的variable的微分情况\n",
    "    #这里可以用list的形式来分别求导并分别赋值。\n",
    "    \n",
    "    model.W.assign_sub(learning_rate*dw)\n",
    "    model.b.assign_sub(learning_rate*db)\n",
    "    #知识点again！tf.variable.assign_sub\n",
    "    #var.assign_sub(delta)等于 var = var - delta!\n",
    "    #而当delta = dw * step_length的时候，就是优化算法了！！wonderful！！！\n",
    "    "
   ]
  },
  {
   "cell_type": "markdown",
   "metadata": {},
   "source": [
    "### 迭代训练\n",
    "迭代训练的实现是基于不断的调用optimizer。每调用一次optimizer，梯度下降法下降一个步长。"
   ]
  },
  {
   "cell_type": "code",
   "execution_count": 17,
   "metadata": {},
   "outputs": [
    {
     "name": "stdout",
     "output_type": "stream",
     "text": [
      "Epoch  0: W=5.00 b=0.00, loss=9.23911\n",
      "Epoch  1: W=4.17 b=0.80, loss=3.89950\n",
      "Epoch  2: W=3.67 b=1.28, loss=2.02397\n",
      "Epoch  3: W=3.37 b=1.56, loss=1.36515\n",
      "Epoch  4: W=3.20 b=1.72, loss=1.13371\n",
      "Epoch  5: W=3.09 b=1.82, loss=1.05240\n",
      "Epoch  6: W=3.03 b=1.88, loss=1.02383\n",
      "Epoch  7: W=2.99 b=1.91, loss=1.01379\n",
      "Epoch  8: W=2.97 b=1.93, loss=1.01026\n",
      "Epoch  9: W=2.96 b=1.94, loss=1.00902\n"
     ]
    },
    {
     "data": {
      "image/png": "[encoded data removed]",
      "text/plain": [
       "<Figure size 432x288 with 1 Axes>"
      ]
     },
     "metadata": {
      "needs_background": "light"
     },
     "output_type": "display_data"
    }
   ],
   "source": [
    "model = Model()\n",
    "\n",
    "# 收集 W 和 b 的历史数值，用于显示\n",
    "Ws, bs = [], []\n",
    "epochs = range(10)\n",
    "for epoch in epochs:\n",
    "    ##作图所用\n",
    "    Ws.append(model.W.numpy())\n",
    "    bs.append(model.b.numpy())\n",
    "    current_loss = loss(model(inputs), outputs)\n",
    "    ##作图记录点\n",
    "    \n",
    "   \n",
    "    ##真正的训练只需要这一句话，调用optimizor就够了。\n",
    "    optimizer(model, inputs, outputs, learning_rate=0.2)\n",
    "    \n",
    "    \n",
    "    print('Epoch %2d: W=%1.2f b=%1.2f, loss=%2.5f' %\n",
    "        (epoch, Ws[-1], bs[-1], current_loss))\n",
    "\n",
    "# 显示所有\n",
    "plt.plot(epochs, Ws, 'r',\n",
    "         epochs, bs, 'b')\n",
    "plt.plot([TRUE_W] * len(epochs), 'r--',\n",
    "         [TRUE_b] * len(epochs), 'b--')\n",
    "plt.legend(['W', 'b', 'true W', 'true_b'])\n",
    "plt.show()"
   ]
  },
  {
   "cell_type": "code",
   "execution_count": null,
   "metadata": {},
   "outputs": [],
   "source": []
  },
  {
   "cell_type": "code",
   "execution_count": null,
   "metadata": {},
   "outputs": [],
   "source": []
  }
 ],
 "metadata": {
  "kernelspec": {
   "display_name": "Python 3",
   "language": "python",
   "name": "python3"
  },
  "language_info": {
   "codemirror_mode": {
    "name": "ipython",
    "version": 3
   },
   "file_extension": ".py",
   "mimetype": "text/x-python",
   "name": "python",
   "nbconvert_exporter": "python",
   "pygments_lexer": "ipython3",
   "version": "3.7.3"
  }
 },
 "nbformat": 4,
 "nbformat_minor": 2
}
