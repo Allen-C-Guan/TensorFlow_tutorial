{
 "cells": [
  {
   "cell_type": "markdown",
   "metadata": {},
   "source": [
    "## 继承tutorial\n",
    "什么是继承，对于class而言，我们可以利用继承关系，来让sub class 在不定义的情况下，就拥有 parent class的功能，这就是继承。\\\n",
    "注意：如果父类和子类变量名字相同的时候，是会以子类为优先的，并且如果sub class 是用了相同的名字命名function，其也会优先执行子类的function"
   ]
  },
  {
   "cell_type": "markdown",
   "metadata": {},
   "source": [
    "#### 完全继承\n",
    "子类不需要做任何事情，就可以改进父类"
   ]
  },
  {
   "cell_type": "code",
   "execution_count": 1,
   "metadata": {},
   "outputs": [],
   "source": [
    "class animal:\n",
    "    def __init__(self,price):\n",
    "        self.price=price\n",
    "        print(\"this is animal class\")\n",
    "        \n",
    "    def speak( self , message ):\n",
    "        print(message+\" from animal class\")"
   ]
  },
  {
   "cell_type": "markdown",
   "metadata": {},
   "source": [
    "直接调用"
   ]
  },
  {
   "cell_type": "code",
   "execution_count": 6,
   "metadata": {},
   "outputs": [
    {
     "name": "stdout",
     "output_type": "stream",
     "text": [
      "this is animal class\n"
     ]
    }
   ],
   "source": [
    "dog0 = animal(50)#括号必须要有的！！！不然就是class的赋值。不是调用\n",
    "#init只在赋值的时候被调用一次。"
   ]
  },
  {
   "cell_type": "code",
   "execution_count": 3,
   "metadata": {},
   "outputs": [
    {
     "name": "stdout",
     "output_type": "stream",
     "text": [
      "50\n",
      "wangwang from animal class\n",
      "None\n"
     ]
    }
   ],
   "source": [
    "print(dog0.price)\n",
    "print(dog0.speak(\"wangwang\"))\n"
   ]
  },
  {
   "cell_type": "code",
   "execution_count": 18,
   "metadata": {},
   "outputs": [
    {
     "name": "stdout",
     "output_type": "stream",
     "text": [
      "this is animal class\n"
     ]
    }
   ],
   "source": [
    "class dog(animal):\n",
    "    pass\n",
    "\n",
    "dog1=dog(30)"
   ]
  },
  {
   "cell_type": "markdown",
   "metadata": {},
   "source": [
    "dog1是dog 和 animal 共同的obj"
   ]
  },
  {
   "cell_type": "code",
   "execution_count": 21,
   "metadata": {},
   "outputs": [
    {
     "name": "stdout",
     "output_type": "stream",
     "text": [
      "True\n",
      "True\n"
     ]
    }
   ],
   "source": [
    "print(isinstance(dog1,animal))\n",
    "print(isinstance(dog1,dog))"
   ]
  },
  {
   "cell_type": "code",
   "execution_count": 70,
   "metadata": {},
   "outputs": [
    {
     "name": "stdout",
     "output_type": "stream",
     "text": [
      "30\n",
      "wangwang from animal class\n",
      "None\n"
     ]
    }
   ],
   "source": [
    "print(dog1.price)\n",
    "print(dog1.speak(\"wangwang\"))"
   ]
  },
  {
   "cell_type": "markdown",
   "metadata": {},
   "source": [
    "这就是最简单的继承，什么都不改，子类拥有和父类完全一样的功能.\\\n",
    "当然，同理可得，如果子类没定义的部分，父类定义了，那么一样可以使用。\\\n",
    "可当子类定义了相同的变量或者函数的时候（名称相同），那么会先使用子类中的函数值或者函数，而不去调用父类。(就近原则)"
   ]
  },
  {
   "cell_type": "markdown",
   "metadata": {},
   "source": [
    "#### 功能继承"
   ]
  },
  {
   "cell_type": "code",
   "execution_count": 25,
   "metadata": {},
   "outputs": [],
   "source": [
    "class cat (animal):\n",
    "    def __init__(self):\n",
    "        print(\"this is a cat class\")\n",
    "        \n",
    "    def speak(self,message):\n",
    "        super(cat,self).speak(message)#表示super(cat，self)指向 cat 的父类\n",
    "                                      #因此 super(cat,self).speak = animal.speak(message)\n",
    "        print(\"this is cat message\")"
   ]
  },
  {
   "cell_type": "code",
   "execution_count": 26,
   "metadata": {},
   "outputs": [
    {
     "name": "stdout",
     "output_type": "stream",
     "text": [
      "this is a cat class\n",
      "miaomiao from animal class\n",
      "this is cat message\n"
     ]
    }
   ],
   "source": [
    "cat1=cat()\n",
    "cat1.speak(\"miaomiao\")"
   ]
  },
  {
   "cell_type": "markdown",
   "metadata": {},
   "source": [
    "第一行，是在定义obj的时候输出的，第二行是在super行执行的，第三行是在speak内部执行的.\\\n",
    "因此，super的使用是为了拓展父类的同名function。使用super后，cat类的speak功能里面，不但继承了animial（父类）的全部功能，还多了一个print的功能。"
   ]
  },
  {
   "cell_type": "markdown",
   "metadata": {},
   "source": [
    "#### 继承的通常使用方法"
   ]
  },
  {
   "cell_type": "code",
   "execution_count": 56,
   "metadata": {},
   "outputs": [],
   "source": [
    "class parent():\n",
    "    def __init__ (self):\n",
    "        print(\"this is a parent\")\n",
    "    def add(self, a,b):\n",
    "        print(\"the sum result is: \",a+b)\n",
    "    def mul(self,c,d):\n",
    "        self.c = c  #必须要重新定义，因为self.c != c的，这是两个变量，如果你没有定义self.c，\n",
    "                    #那么这个class里将没有self.c这个属性\n",
    "        self.d = d\n",
    "        print(\"the multiply result is: \", self.c*self.d)"
   ]
  },
  {
   "cell_type": "code",
   "execution_count": 57,
   "metadata": {},
   "outputs": [],
   "source": [
    "class child(parent):\n",
    "    def __init__(self,name):\n",
    "        self.name = name\n",
    "        print(\"this is a child\",self.name)\n",
    "    def add(self, a, b):\n",
    "        super(child,self).add(a,b)\n",
    "        print(\"this sum is child result\")"
   ]
  },
  {
   "cell_type": "code",
   "execution_count": 59,
   "metadata": {
    "scrolled": false
   },
   "outputs": [
    {
     "name": "stdout",
     "output_type": "stream",
     "text": [
      "this is a child bob\n"
     ]
    }
   ],
   "source": [
    "child1=child(\"bob\")"
   ]
  },
  {
   "cell_type": "markdown",
   "metadata": {},
   "source": [
    "child即使没有定义mul，但是仍然可以使用mul功能，因为继承会自动继承子类中没有定义过的"
   ]
  },
  {
   "cell_type": "code",
   "execution_count": 60,
   "metadata": {},
   "outputs": [
    {
     "name": "stdout",
     "output_type": "stream",
     "text": [
      "the multiply result is:  3\n"
     ]
    }
   ],
   "source": [
    "child1.mul(1,3)"
   ]
  },
  {
   "cell_type": "markdown",
   "metadata": {},
   "source": [
    "当child定义里相同的功能的时候，但还要加以改进，可以用super调用父类，并在包装一下，可以增强父类的功能。"
   ]
  },
  {
   "cell_type": "code",
   "execution_count": 61,
   "metadata": {},
   "outputs": [
    {
     "name": "stdout",
     "output_type": "stream",
     "text": [
      "the sum result is:  4\n",
      "this sum is child result\n"
     ]
    }
   ],
   "source": [
    "child1.add(1,3)"
   ]
  },
  {
   "cell_type": "code",
   "execution_count": null,
   "metadata": {},
   "outputs": [],
   "source": []
  }
 ],
 "metadata": {
  "kernelspec": {
   "display_name": "Python 3",
   "language": "python",
   "name": "python3"
  },
  "language_info": {
   "codemirror_mode": {
    "name": "ipython",
    "version": 3
   },
   "file_extension": ".py",
   "mimetype": "text/x-python",
   "name": "python",
   "nbconvert_exporter": "python",
   "pygments_lexer": "ipython3",
   "version": "3.7.3"
  }
 },
 "nbformat": 4,
 "nbformat_minor": 2
}
