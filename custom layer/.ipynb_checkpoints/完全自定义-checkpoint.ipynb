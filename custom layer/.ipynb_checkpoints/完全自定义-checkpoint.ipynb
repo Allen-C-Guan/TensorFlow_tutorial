{
 "cells": [
  {
   "cell_type": "code",
   "execution_count": 1,
   "metadata": {},
   "outputs": [],
   "source": [
    "from __future__ import absolute_import, division, print_function, unicode_literals\n",
    "\n",
    "import os\n",
    "import matplotlib.pyplot as plt"
   ]
  },
  {
   "cell_type": "code",
   "execution_count": 2,
   "metadata": {},
   "outputs": [],
   "source": [
    "try:\n",
    "  # Colab only\n",
    "  %tensorflow_version 2.x\n",
    "except Exception:\n",
    "    pass\n",
    "import tensorflow as tf"
   ]
  },
  {
   "cell_type": "markdown",
   "metadata": {},
   "source": [
    "## 下载文件"
   ]
  },
  {
   "cell_type": "code",
   "execution_count": 3,
   "metadata": {},
   "outputs": [
    {
     "name": "stdout",
     "output_type": "stream",
     "text": [
      "/Users/allen/Desktop/tensorflow/custom layer\n"
     ]
    }
   ],
   "source": [
    "import os\n",
    "\n",
    "recent_path = os.path.abspath(\"\")\n",
    "print(recent_path)\n",
    "\n",
    "path = recent_path+\"/iris_training\"\n",
    "\n",
    "#创建文件夹\n",
    "if not os.path.exists(path):\n",
    "    os.makedirs(path)"
   ]
  },
  {
   "cell_type": "code",
   "execution_count": 4,
   "metadata": {},
   "outputs": [
    {
     "name": "stdout",
     "output_type": "stream",
     "text": [
      "Local copy of the dataset file: /Users/allen/Desktop/tensorflow/custom layer/iris_training/datasets/iris_training.csv\n"
     ]
    }
   ],
   "source": [
    "train_dataset_url = \"https://storage.googleapis.com/download.tensorflow.org/data/iris_training.csv\"\n",
    "\n",
    "train_dataset_fp = tf.keras.utils.get_file(fname=os.path.basename(train_dataset_url),\n",
    "                                           origin=train_dataset_url,\n",
    "                                          cache_dir = path )\n",
    "\n",
    "print(\"Local copy of the dataset file: {}\".format(train_dataset_fp))\n",
    "\n"
   ]
  },
  {
   "cell_type": "code",
   "execution_count": 5,
   "metadata": {},
   "outputs": [
    {
     "name": "stdout",
     "output_type": "stream",
     "text": [
      "Features: ['sepal_length', 'sepal_width', 'petal_length', 'petal_width']\n",
      "Label: species\n"
     ]
    }
   ],
   "source": [
    "# CSV文件中列的顺序\n",
    "column_names = ['sepal_length', 'sepal_width', 'petal_length', 'petal_width', 'species']\n",
    "\n",
    "feature_names = column_names[:-1]\n",
    "label_name = column_names[-1]\n",
    "\n",
    "print(\"Features: {}\".format(feature_names))\n",
    "print(\"Label: {}\".format(label_name))"
   ]
  },
  {
   "cell_type": "code",
   "execution_count": 6,
   "metadata": {},
   "outputs": [],
   "source": [
    "class_names = ['Iris setosa', 'Iris versicolor', 'Iris virginica']"
   ]
  },
  {
   "cell_type": "markdown",
   "metadata": {},
   "source": [
    "## 创建dataset\n",
    "利用API把我们的数据转换成dateset类型的数据。\n",
    "\n",
    "因为dataset的数据是可迭代的，不断产生的，每次产生一个bitch的数据。training只有通过不断的批量迭代才可以完成训练。\\\n",
    "因此，所有的数据都需要利用data函数变成dataset，而后载入到训练中。\\\n",
    "dataset的实现是通过迭代器(iterator)，只有某些函数( for next etc )才可以调用iterator。"
   ]
  },
  {
   "cell_type": "code",
   "execution_count": 7,
   "metadata": {},
   "outputs": [
    {
     "name": "stderr",
     "output_type": "stream",
     "text": [
      "WARNING: Logging before flag parsing goes to stderr.\n",
      "W0922 13:47:55.309425 4493784512 deprecation.py:323] From /Users/allen/anaconda3/lib/python3.7/site-packages/tensorflow/python/data/experimental/ops/readers.py:498: parallel_interleave (from tensorflow.python.data.experimental.ops.interleave_ops) is deprecated and will be removed in a future version.\n",
      "Instructions for updating:\n",
      "Use `tf.data.Dataset.interleave(map_func, cycle_length, block_length, num_parallel_calls=tf.data.experimental.AUTOTUNE)` instead. If sloppy execution is desired, use `tf.data.Options.experimental_determinstic`.\n"
     ]
    }
   ],
   "source": [
    "batch_size = 32\n",
    "\n",
    "train_dataset = tf.data.experimental.make_csv_dataset(\n",
    "    train_dataset_fp,#数据变量\n",
    "    batch_size,      #batch_size\n",
    "    column_names=column_names,#column_name\n",
    "    label_name=label_name,    #label\n",
    "    num_epochs=1)#数据值遍历一遍\n",
    "                 #默认的是自带shuffle的"
   ]
  },
  {
   "cell_type": "markdown",
   "metadata": {},
   "source": [
    "### 查看数据"
   ]
  },
  {
   "cell_type": "markdown",
   "metadata": {},
   "source": [
    "dataset其返回的是截取了一个bitch的数据组成的dictionary ，形如\\\n",
    "{'feature_name1': value1（一大堆数据），'feature_name2': value2（一大堆数据）}，’label‘：value_label}"
   ]
  },
  {
   "cell_type": "code",
   "execution_count": 8,
   "metadata": {},
   "outputs": [
    {
     "name": "stdout",
     "output_type": "stream",
     "text": [
      "<class 'collections.OrderedDict'>\n",
      "OrderedDict([('sepal_length', <tf.Tensor: id=65, shape=(32,), dtype=float32, numpy=\n",
      "array([4.9, 5.7, 5.4, 7.2, 5.6, 5.8, 6.6, 5.4, 4.9, 6.1, 6.3, 4.7, 6. ,\n",
      "       6.8, 6.1, 5.8, 6. , 5.7, 4.9, 6.7, 5. , 4.6, 5.7, 4.6, 5.2, 6.9,\n",
      "       5.5, 5.3, 5. , 5.4, 6.3, 5. ], dtype=float32)>), ('sepal_width', <tf.Tensor: id=66, shape=(32,), dtype=float32, numpy=\n",
      "array([3. , 3. , 3.7, 3.6, 2.9, 2.7, 3. , 3.9, 3.1, 2.8, 3.3, 3.2, 2.7,\n",
      "       3. , 2.8, 2.8, 3. , 4.4, 2.5, 3.1, 3.5, 3.6, 2.9, 3.4, 3.5, 3.1,\n",
      "       2.6, 3.7, 3.4, 3. , 3.3, 2.3], dtype=float32)>), ('petal_length', <tf.Tensor: id=63, shape=(32,), dtype=float32, numpy=\n",
      "array([1.4, 4.2, 1.5, 6.1, 3.6, 5.1, 4.4, 1.7, 1.5, 4.7, 6. , 1.6, 5.1,\n",
      "       5.5, 4. , 5.1, 4.8, 1.5, 4.5, 4.4, 1.3, 1. , 4.2, 1.4, 1.5, 4.9,\n",
      "       4.4, 1.5, 1.5, 4.5, 4.7, 3.3], dtype=float32)>), ('petal_width', <tf.Tensor: id=64, shape=(32,), dtype=float32, numpy=\n",
      "array([0.2, 1.2, 0.2, 2.5, 1.3, 1.9, 1.4, 0.4, 0.1, 1.2, 2.5, 0.2, 1.6,\n",
      "       2.1, 1.3, 2.4, 1.8, 0.4, 1.7, 1.4, 0.3, 0.2, 1.3, 0.3, 0.2, 1.5,\n",
      "       1.2, 0.2, 0.2, 1.5, 1.6, 1. ], dtype=float32)>)])\n",
      "tf.Tensor([0 1 0 2 1 2 1 0 0 1 2 0 1 2 1 2 2 0 2 1 0 0 1 0 0 1 1 0 0 1 1 1], shape=(32,), dtype=int32)\n"
     ]
    }
   ],
   "source": [
    "features, labels = next(iter(train_dataset))\n",
    "\n",
    "#iter()函数是创建一个小巧的迭代器，而input必须是可以被迭代的内容，例如，list，等\n",
    "\n",
    "print(type(features))\n",
    "print(features)\n",
    "print(labels)"
   ]
  },
  {
   "cell_type": "code",
   "execution_count": 9,
   "metadata": {},
   "outputs": [
    {
     "data": {
      "image/png": "[encoded data removed]",
      "text/plain": [
       "<Figure size 432x288 with 1 Axes>"
      ]
     },
     "metadata": {
      "needs_background": "light"
     },
     "output_type": "display_data"
    }
   ],
   "source": [
    "plt.scatter(features['petal_length'],\n",
    "            features['sepal_length'],\n",
    "            c=labels,\n",
    "            cmap='viridis')\n",
    "\n",
    "plt.xlabel(\"Petal length\")\n",
    "plt.ylabel(\"Sepal length\")\n",
    "plt.show()"
   ]
  },
  {
   "cell_type": "markdown",
   "metadata": {},
   "source": [
    "### 打包数据（dict变成tensor）\n",
    "上面那个dictionary长得太丑了，我们要变成整齐的方便利用的数据结构。\\\n",
    "我们不好直接利用dictionary里的数据。我们需要把dict里面的数据变成tensor格式。"
   ]
  },
  {
   "cell_type": "code",
   "execution_count": 10,
   "metadata": {},
   "outputs": [],
   "source": [
    "def pack_features_vector(features, labels):\n",
    "    \"\"\"将特征打包到一个数组中\"\"\"\n",
    "    features = tf.stack(list(features.values()), axis=1)\n",
    "    return features, labels"
   ]
  },
  {
   "cell_type": "markdown",
   "metadata": {},
   "source": [
    "data = data(dataset form).map(function)起到的作用是， 把data，经过function变换之后，覆盖给data。"
   ]
  },
  {
   "cell_type": "code",
   "execution_count": 11,
   "metadata": {},
   "outputs": [],
   "source": [
    "train_dataset = train_dataset.map(pack_features_vector)"
   ]
  },
  {
   "cell_type": "code",
   "execution_count": 12,
   "metadata": {},
   "outputs": [
    {
     "name": "stdout",
     "output_type": "stream",
     "text": [
      "<class 'tensorflow.python.framework.ops.EagerTensor'>\n",
      "tf.Tensor(\n",
      "[[4.9 3.  1.4 0.2]\n",
      " [5.7 3.  4.2 1.2]\n",
      " [5.4 3.7 1.5 0.2]\n",
      " [7.2 3.6 6.1 2.5]\n",
      " [5.6 2.9 3.6 1.3]], shape=(5, 4), dtype=float32)\n",
      "tf.Tensor([0 1 0 2 1 2 1 0 0 1 2 0 1 2 1 2 2 0 2 1 0 0 1 0 0 1 1 0 0 1 1 1], shape=(32,), dtype=int32)\n"
     ]
    }
   ],
   "source": [
    "features, labels = next(iter(train_dataset))\n",
    "print(type(features))\n",
    "print(features[:5])\n",
    "print(labels)"
   ]
  },
  {
   "cell_type": "markdown",
   "metadata": {},
   "source": [
    "## 选择机器学习的模型\n",
    "利用keras建立模型永远是机器学习的优先选择选项\n",
    "\n",
    "Sequential 是通过对层的线性堆叠来建立的层与层之间的联系的。"
   ]
  },
  {
   "cell_type": "code",
   "execution_count": 13,
   "metadata": {},
   "outputs": [],
   "source": [
    "model = tf.keras.Sequential([\n",
    "    #这里我们建立的3个dense的层\n",
    "  tf.keras.layers.Dense(10, activation=tf.nn.relu, input_shape=(4,)),  # 需要给出输入的形式\n",
    "  tf.keras.layers.Dense(10, activation=tf.nn.relu),\n",
    "  tf.keras.layers.Dense(3)\n",
    "    \n",
    "])"
   ]
  },
  {
   "cell_type": "code",
   "execution_count": 14,
   "metadata": {},
   "outputs": [
    {
     "data": {
      "text/plain": [
       "TensorShape([32, 4])"
      ]
     },
     "execution_count": 14,
     "metadata": {},
     "output_type": "execute_result"
    }
   ],
   "source": [
    "features.shape\n",
    "#features是一个bitch（32）的数据"
   ]
  },
  {
   "cell_type": "code",
   "execution_count": 15,
   "metadata": {
    "scrolled": true
   },
   "outputs": [
    {
     "name": "stdout",
     "output_type": "stream",
     "text": [
      "tf.Tensor(\n",
      "[[-0.20665616 -0.28429887 -0.18192883]\n",
      " [-2.1803012  -1.1452857  -0.68560976]\n",
      " [ 0.14898717 -0.35423338 -0.24079391]\n",
      " [-3.3711624  -2.1804056  -1.1660349 ]\n",
      " [-2.0057604  -1.0352371  -0.62554777]], shape=(5, 3), dtype=float32)\n"
     ]
    }
   ],
   "source": [
    "predictions = model(features)\n",
    "print(predictions[:5])"
   ]
  },
  {
   "cell_type": "markdown",
   "metadata": {},
   "source": [
    "#### softmax函数\n",
    "其的作用是把logit的数值变成概率值\n",
    "\n",
    "logit指的是：分类模型生成的原始（非标准化）预测向量，通常会传递给标准化函数。如果模型要解决多类别分类问题，则对数通常变成 softmax 函数的输入。之后，softmax 函数会生成一个（标准化）概率向量，对应于每个可能的类别。\n",
    "\n"
   ]
  },
  {
   "cell_type": "code",
   "execution_count": 16,
   "metadata": {},
   "outputs": [
    {
     "data": {
      "text/plain": [
       "<tf.Tensor: id=239, shape=(5, 3), dtype=float32, numpy=\n",
       "array([[0.33894506, 0.31362417, 0.34743077],\n",
       "       [0.12087353, 0.34027705, 0.5388494 ],\n",
       "       [0.43825328, 0.26495934, 0.29678735],\n",
       "       [0.07484482, 0.24620728, 0.6789479 ],\n",
       "       [0.13131852, 0.3465923 , 0.52208924]], dtype=float32)>"
      ]
     },
     "execution_count": 16,
     "metadata": {},
     "output_type": "execute_result"
    }
   ],
   "source": [
    "tf.nn.softmax(predictions[:5])"
   ]
  },
  {
   "cell_type": "markdown",
   "metadata": {},
   "source": [
    "#### argmax函数\n",
    "可以把softmax后的最值对应的label拿出来！\n",
    "\n",
    "例如：[0.1, 0.8, 0.1] 经过argmax，返回是2，即0.8对应的label的数值。"
   ]
  },
  {
   "cell_type": "code",
   "execution_count": 17,
   "metadata": {
    "scrolled": true
   },
   "outputs": [
    {
     "name": "stdout",
     "output_type": "stream",
     "text": [
      "Prediction: [2 2 0 2 2 2 2 0 0 2 2 0 2 2 2 2 2 0 2 2 0 0 2 0 0 2 2 0 0 2 2 2]\n",
      "    Labels: [0 1 0 2 1 2 1 0 0 1 2 0 1 2 1 2 2 0 2 1 0 0 1 0 0 1 1 0 0 1 1 1]\n"
     ]
    }
   ],
   "source": [
    "print(\"Prediction: {}\".format(tf.argmax(predictions, axis=1)))\n",
    "print(\"    Labels: {}\".format(labels))"
   ]
  },
  {
   "cell_type": "markdown",
   "metadata": {},
   "source": [
    "这个还没训练的模型看起来还不行。我们开始训练一下"
   ]
  },
  {
   "cell_type": "markdown",
   "metadata": {},
   "source": [
    "## 训练模型\n",
    "仍然是之间的几个步骤：\n",
    "1. model（含参数学模型）\n",
    "2. loss function\n",
    "3. 优化器\n",
    "    1. 对loss function中的model中的参数求梯度\n",
    "    2. 梯度*步长更新参数。"
   ]
  },
  {
   "cell_type": "markdown",
   "metadata": {},
   "source": [
    "### loss function"
   ]
  },
  {
   "cell_type": "code",
   "execution_count": 18,
   "metadata": {},
   "outputs": [],
   "source": [
    "#实例化一个可调用的loss function class\n",
    "\n",
    "loss_object = tf.keras.losses.SparseCategoricalCrossentropy(from_logits=True)\n"
   ]
  },
  {
   "cell_type": "code",
   "execution_count": 19,
   "metadata": {},
   "outputs": [
    {
     "name": "stdout",
     "output_type": "stream",
     "text": [
      "Loss test: 0.8485798835754395\n"
     ]
    }
   ],
   "source": [
    "##定义一个可调用loss function\n",
    "def loss(model,x,y):\n",
    "    y_ = model(x)\n",
    "    loss = loss_object(y_true = y, y_pred = y_)\n",
    "    return loss\n",
    "    \n",
    "    \n",
    "l = loss(model, features, labels)\n",
    "print(\"Loss test: {}\".format(l))"
   ]
  },
  {
   "cell_type": "markdown",
   "metadata": {},
   "source": [
    "### 求梯度"
   ]
  },
  {
   "cell_type": "code",
   "execution_count": 20,
   "metadata": {},
   "outputs": [],
   "source": [
    "##GradientTape一定是一个函数值（不是一个方程）对另一个变量的求导！\n",
    "def grad (model, inputs,targets):\n",
    "    with tf.GradientTape() as tape:\n",
    "        loss_value = loss(model,inputs,targets)\n",
    "    return loss_value, tape.gradient(loss_value, model.trainable_variables)\n",
    "\n",
    "# model.tranable_variables:(keras下的函数)\n",
    "            #Returns all variables created with trainable=True.\n",
    "#因此以一个list的形式，返回的是model中所有可以被trainable的变量\n"
   ]
  },
  {
   "cell_type": "markdown",
   "metadata": {},
   "source": [
    "### 优化器\n",
    "优化器的作用是：可以完成自动更新参数，即optimizer(梯度list， 参数list），运行结束得到的是一个被更新过参数list的model模型了。\n",
    "\n",
    "optimzer.apply_gradients()基本完成的就是 new_param_list = old_param_list+梯度list\n",
    "\n",
    "我们从已有的优化器中选择一个优化器,名为 keras.optimizers.Adam()"
   ]
  },
  {
   "cell_type": "code",
   "execution_count": 21,
   "metadata": {},
   "outputs": [],
   "source": [
    "optimizer = tf.keras.optimizers.Adam(learning_rate = 0.01)\n"
   ]
  },
  {
   "cell_type": "markdown",
   "metadata": {},
   "source": [
    "#### 一步训练"
   ]
  },
  {
   "cell_type": "code",
   "execution_count": 22,
   "metadata": {
    "scrolled": false
   },
   "outputs": [
    {
     "name": "stdout",
     "output_type": "stream",
     "text": [
      "Step: 0, Initial Loss: 0.8485798835754395\n",
      "Step: 1,         Loss: 0.7063137888908386\n"
     ]
    }
   ],
   "source": [
    "#用梯度器来求一次梯度和loss_value\n",
    "loss_value, grads = grad(model, features, labels)\n",
    "\n",
    "print(\"Step: {}, Initial Loss: {}\".format(optimizer.iterations.numpy(),\n",
    "                                          loss_value.numpy()))\n",
    "\n",
    "\n",
    "##就这一句有用\n",
    "\n",
    "##optimizer.apply_gradients会以 梯度 和被 训练变量为input，完成对被训练变量自我的更新!!\n",
    "\n",
    "optimizer.apply_gradients(zip(grads, model.trainable_variables))\n",
    "\n",
    "print(\"Step: {},         Loss: {}\".format(optimizer.iterations.numpy(),\n",
    "                                          loss(model, features, labels).numpy()))"
   ]
  },
  {
   "cell_type": "markdown",
   "metadata": {},
   "source": [
    "#### 循环训练\n",
    "一个epoch，指的完整的遍历完一次dataset\n",
    "\n",
    "循环训练是通过两层嵌套完成的：\n",
    "1. 内层嵌套（完成一个epoch）：主要用于优化参数，将全部dataset（dataset是一个迭代器，每次输出一个bitch的数据和对应的label）一个bitch一个bitch的拿出来，直到dataset全部被拿完了。\n",
    "2. 外层嵌套：用于控制epoch的次数，并记录每个epoch的accuarcy和loss的值。\n",
    "\n",
    "因此内层循环需要完成:\n",
    "1. 求梯度：GradentTape\n",
    "2. 更新参数： optimizer.apply_gradients\n",
    "3. 记录：\n",
    "    1. loss\n",
    "    2. accuracy"
   ]
  },
  {
   "cell_type": "code",
   "execution_count": 23,
   "metadata": {},
   "outputs": [
    {
     "name": "stdout",
     "output_type": "stream",
     "text": [
      "Epoch 000: Loss: 0.760, Accuracy: 71.667%\n",
      "Epoch 050: Loss: 0.062, Accuracy: 98.333%\n",
      "Epoch 100: Loss: 0.052, Accuracy: 99.167%\n",
      "Epoch 150: Loss: 0.048, Accuracy: 99.167%\n",
      "Epoch 200: Loss: 0.045, Accuracy: 99.167%\n"
     ]
    }
   ],
   "source": [
    "## Note: 使用相同的模型变量重新运行此单元\n",
    "\n",
    "# 保留结果用于绘制\n",
    "train_loss_results = []\n",
    "train_accuracy_results = []\n",
    "\n",
    "num_epochs = 201\n",
    "\n",
    "for epoch in range(num_epochs):\n",
    "    epoch_loss_avg = tf.keras.metrics.Mean()\n",
    "    epoch_accuracy = tf.keras.metrics.SparseCategoricalAccuracy()\n",
    "\n",
    "  # Training loop - using batches of 32\n",
    "    for x, y in train_dataset:\n",
    "        # 优化模型\n",
    "        loss_value, grads = grad(model, x, y)\n",
    "        optimizer.apply_gradients(zip(grads, model.trainable_variables))\n",
    "\n",
    "        # 如下两个obj函数的逻辑是：调用的时候，只是读取，不计算\n",
    "        # 当你调用method的时候，例如result，才会把读取的数据根据其公式计算出来。\n",
    "        \n",
    "        \n",
    "        # 追踪进度\n",
    "        epoch_loss_avg(loss_value)  # 添加当前的 batch loss\n",
    "        # 比较预测标签与真实标签\n",
    "        epoch_accuracy(y, model(x))\n",
    "\n",
    "  # 循环结束\n",
    "    train_loss_results.append(epoch_loss_avg.result())\n",
    "    train_accuracy_results.append(epoch_accuracy.result())\n",
    "\n",
    "    if epoch % 50 == 0:\n",
    "        print(\"Epoch {:03d}: Loss: {:.3f}, Accuracy: {:.3%}\".format(epoch,\n",
    "                                                                epoch_loss_avg.result(),\n",
    "                                                                epoch_accuracy.result()))"
   ]
  },
  {
   "cell_type": "markdown",
   "metadata": {},
   "source": [
    "### 可视化"
   ]
  },
  {
   "cell_type": "code",
   "execution_count": 24,
   "metadata": {},
   "outputs": [
    {
     "data": {
      "image/png": "[encoded data removed]",
      "text/plain": [
       "<Figure size 864x576 with 2 Axes>"
      ]
     },
     "metadata": {
      "needs_background": "light"
     },
     "output_type": "display_data"
    }
   ],
   "source": [
    "fig, axes = plt.subplots(2, sharex=True, figsize=(12, 8))\n",
    "fig.suptitle('Training Metrics')\n",
    "\n",
    "axes[0].set_ylabel(\"Loss\", fontsize=14)\n",
    "axes[0].plot(train_loss_results)\n",
    "\n",
    "axes[1].set_ylabel(\"Accuracy\", fontsize=14)\n",
    "axes[1].set_xlabel(\"Epoch\", fontsize=14)\n",
    "axes[1].plot(train_accuracy_results)\n",
    "plt.show()"
   ]
  },
  {
   "cell_type": "markdown",
   "metadata": {},
   "source": [
    "## 测试"
   ]
  },
  {
   "cell_type": "code",
   "execution_count": 25,
   "metadata": {},
   "outputs": [],
   "source": [
    "test_url = \"https://storage.googleapis.com/download.tensorflow.org/data/iris_test.csv\"\n",
    "\n",
    "test_fp = tf.keras.utils.get_file(fname=os.path.basename(test_url),\n",
    "                                  origin=test_url,\n",
    "                                 cache_dir = path)"
   ]
  },
  {
   "cell_type": "markdown",
   "metadata": {},
   "source": [
    "__再次把下载的数据变成dataset的可迭代的数据__"
   ]
  },
  {
   "cell_type": "code",
   "execution_count": 26,
   "metadata": {},
   "outputs": [],
   "source": [
    "test_dataset = tf.data.experimental.make_csv_dataset(\n",
    "    test_fp,\n",
    "    batch_size,\n",
    "    column_names=column_names,\n",
    "    label_name='species',\n",
    "    num_epochs=1,\n",
    "    shuffle=False)\n",
    "\n",
    "##打包数据\n",
    "test_dataset = test_dataset.map(pack_features_vector)"
   ]
  },
  {
   "cell_type": "markdown",
   "metadata": {},
   "source": [
    "## 评估模型\n",
    "在评估模型中，我们只需要把所有数据循环一次就可以了。因此我们也不需要外循环了。\n",
    "\n",
    "而在内循环中，我们需要完成的是：\n",
    "1. 让model给出计算结果\n",
    "2. 从计算结果中选出最大结果，并找到其对应的label。\n",
    "3. 记录计算准确度需要的数据（预测label和正确label）\n",
    "\n",
    "循环结束得到accuracy 通过result（）\n"
   ]
  },
  {
   "cell_type": "code",
   "execution_count": 27,
   "metadata": {},
   "outputs": [
    {
     "name": "stdout",
     "output_type": "stream",
     "text": [
      "Test set accuracy: 96.667%\n"
     ]
    }
   ],
   "source": [
    "test_accuracy = tf.keras.metrics.Accuracy()\n",
    "\n",
    "for (x, y) in test_dataset:\n",
    "    logits = model(x)\n",
    "    prediction = tf.argmax(logits, axis=1, output_type=tf.int32)\n",
    "    test_accuracy(prediction, y)\n",
    "\n",
    "print(\"Test set accuracy: {:.3%}\".format(test_accuracy.result()))"
   ]
  },
  {
   "cell_type": "markdown",
   "metadata": {},
   "source": [
    "## 使用模型进行预测"
   ]
  },
  {
   "cell_type": "markdown",
   "metadata": {},
   "source": [
    "创建预测数据（利用convert_to_tensor 把list变成tensor）\n",
    "\n",
    "给出预测结果"
   ]
  },
  {
   "cell_type": "code",
   "execution_count": 28,
   "metadata": {},
   "outputs": [],
   "source": [
    "predict_dataset = tf.convert_to_tensor([\n",
    "    [5.1, 3.3, 1.7, 0.5,],\n",
    "    [5.9, 3.0, 4.2, 1.5,],\n",
    "    [6.9, 3.1, 5.4, 2.1]\n",
    "])\n",
    "\n",
    "predictions = model(predict_dataset)"
   ]
  },
  {
   "cell_type": "code",
   "execution_count": 53,
   "metadata": {},
   "outputs": [
    {
     "name": "stdout",
     "output_type": "stream",
     "text": [
      "Example 0 prediction: Iris setosa (100.0%)\n",
      "Example 1 prediction: Iris versicolor (100.0%)\n",
      "Example 2 prediction: Iris virginica (99.7%)\n"
     ]
    }
   ],
   "source": [
    "for i, logits in enumerate(predictions):\n",
    "    class_idx = tf.argmax(logits).numpy()\n",
    "    p = tf.nn.softmax(logits)[class_idx]\n",
    "    name = class_names[class_idx]\n",
    "    print(\"Example {} prediction: {} ({:4.1f}%)\".format(i, name, 100*p))"
   ]
  },
  {
   "cell_type": "markdown",
   "metadata": {},
   "source": [
    "__上式等效于__"
   ]
  },
  {
   "cell_type": "code",
   "execution_count": 76,
   "metadata": {},
   "outputs": [
    {
     "name": "stdout",
     "output_type": "stream",
     "text": [
      "Example 0 prediction: Iris setosa (100.0%)\n",
      "Example 0 prediction: Iris versicolor (100.0%)\n",
      "Example 0 prediction: Iris virginica (99.7%)\n"
     ]
    }
   ],
   "source": [
    "#其实你这样直接写就行了，tensor和numpy逻辑一样的，你for循环，\n",
    "# 他就会把第一维度拆分开，用于遍历了，没必要用enumerate。\n",
    "for logits in predictions:\n",
    "    class_idx = tf.argmax(logits).numpy()\n",
    "    p = tf.nn.softmax(logits)[class_idx]\n",
    "    name = class_names[class_idx]\n",
    "    print(\"Example {} prediction: {} ({:4.1f}%)\".format(i, name, 100*p))\n",
    "   "
   ]
  },
  {
   "cell_type": "markdown",
   "metadata": {},
   "source": [
    "### 上面for循环的解释"
   ]
  },
  {
   "cell_type": "markdown",
   "metadata": {},
   "source": [
    "观察一下prediction的形式"
   ]
  },
  {
   "cell_type": "code",
   "execution_count": 29,
   "metadata": {},
   "outputs": [
    {
     "data": {
      "text/plain": [
       "<tf.Tensor: id=157769, shape=(3, 3), dtype=float32, numpy=\n",
       "array([[ 22.983927 ,  13.121178 , -13.417077 ],\n",
       "       [ -4.9097443,   5.960655 ,  -2.4623616],\n",
       "       [-17.636215 ,  -2.5294085,   3.360659 ]], dtype=float32)>"
      ]
     },
     "execution_count": 29,
     "metadata": {},
     "output_type": "execute_result"
    }
   ],
   "source": [
    "predictions\n",
    "#给出的是对应的tensor的logit的值"
   ]
  },
  {
   "cell_type": "markdown",
   "metadata": {},
   "source": [
    "prediction给出的logit类型的数据，数据的相对大小表示相对致信的概率。\\\n",
    "每行表示一个样本\\\n",
    "每列表示一个类别"
   ]
  },
  {
   "cell_type": "markdown",
   "metadata": {},
   "source": [
    "__enumerate形式__\n",
    "\n",
    "转换成enmerate的形式，目的仅仅是因为enum的形式的数据很容易通过for循环一行一行取出来\\\n",
    "enumerate可以把三行tensor分别取出来存放在一个tuple之中。"
   ]
  },
  {
   "cell_type": "code",
   "execution_count": 35,
   "metadata": {
    "scrolled": true
   },
   "outputs": [
    {
     "name": "stdout",
     "output_type": "stream",
     "text": [
      "[(0, <tf.Tensor: id=157831, shape=(3,), dtype=float32, numpy=array([ 22.983927,  13.121178, -13.417077], dtype=float32)>), (1, <tf.Tensor: id=157835, shape=(3,), dtype=float32, numpy=array([-4.9097443,  5.960655 , -2.4623616], dtype=float32)>), (2, <tf.Tensor: id=157839, shape=(3,), dtype=float32, numpy=array([-17.636215 ,  -2.5294085,   3.360659 ], dtype=float32)>)]\n"
     ]
    }
   ],
   "source": [
    "a =list((enumerate(predictions)))\n",
    "print(a)"
   ]
  },
  {
   "cell_type": "markdown",
   "metadata": {},
   "source": [
    "__遍历枚举类型__"
   ]
  },
  {
   "cell_type": "markdown",
   "metadata": {},
   "source": [
    "__利用for可以把一个行单独拿出来__"
   ]
  },
  {
   "cell_type": "code",
   "execution_count": 54,
   "metadata": {
    "scrolled": true
   },
   "outputs": [],
   "source": [
    "for i,a_row_of_tensor in a:\n",
    "    break"
   ]
  },
  {
   "cell_type": "markdown",
   "metadata": {},
   "source": [
    "一行就被拿出来了"
   ]
  },
  {
   "cell_type": "code",
   "execution_count": 55,
   "metadata": {
    "scrolled": false
   },
   "outputs": [
    {
     "data": {
      "text/plain": [
       "<tf.Tensor: id=157831, shape=(3,), dtype=float32, numpy=array([ 22.983927,  13.121178, -13.417077], dtype=float32)>"
      ]
     },
     "execution_count": 55,
     "metadata": {},
     "output_type": "execute_result"
    }
   ],
   "source": [
    "a_row_of_tensor"
   ]
  },
  {
   "cell_type": "markdown",
   "metadata": {},
   "source": [
    "你同样也可以直接用numpy array的方式直接拿出来"
   ]
  },
  {
   "cell_type": "code",
   "execution_count": 71,
   "metadata": {},
   "outputs": [
    {
     "data": {
      "text/plain": [
       "array([ 22.983927,  13.121178, -13.417077], dtype=float32)"
      ]
     },
     "execution_count": 71,
     "metadata": {},
     "output_type": "execute_result"
    }
   ],
   "source": [
    "predictions[0].numpy()"
   ]
  },
  {
   "cell_type": "markdown",
   "metadata": {},
   "source": [
    "利用函数tf.argmax可以把tensor中最大的值的index拿出来"
   ]
  },
  {
   "cell_type": "code",
   "execution_count": 63,
   "metadata": {
    "scrolled": true
   },
   "outputs": [
    {
     "name": "stdout",
     "output_type": "stream",
     "text": [
      "0\n"
     ]
    }
   ],
   "source": [
    "max_prob_index = tf.argmax(a_row_of_tensor).numpy()\n",
    "print(max_prob_index)"
   ]
  },
  {
   "cell_type": "markdown",
   "metadata": {},
   "source": [
    "看看其对应的class的名字"
   ]
  },
  {
   "cell_type": "code",
   "execution_count": 66,
   "metadata": {},
   "outputs": [
    {
     "data": {
      "text/plain": [
       "'Iris setosa'"
      ]
     },
     "execution_count": 66,
     "metadata": {},
     "output_type": "execute_result"
    }
   ],
   "source": [
    "class_names[max_prob_index]"
   ]
  },
  {
   "cell_type": "markdown",
   "metadata": {},
   "source": [
    "把tensor放到softmax中，换成相对概率"
   ]
  },
  {
   "cell_type": "code",
   "execution_count": 62,
   "metadata": {},
   "outputs": [
    {
     "name": "stdout",
     "output_type": "stream",
     "text": [
      "[9.9994791e-01 5.2076270e-05 1.5531804e-16]\n"
     ]
    }
   ],
   "source": [
    "prob = tf.nn.softmax(a_row_of_tensor).numpy()\n",
    "print(prob)"
   ]
  },
  {
   "cell_type": "markdown",
   "metadata": {},
   "source": [
    "找到可能性最大的概率"
   ]
  },
  {
   "cell_type": "code",
   "execution_count": 65,
   "metadata": {},
   "outputs": [
    {
     "name": "stdout",
     "output_type": "stream",
     "text": [
      "0.9999479\n"
     ]
    }
   ],
   "source": [
    "max_prob =  prob[max_prob_index]\n",
    "print(max_prob)"
   ]
  }
 ],
 "metadata": {
  "kernelspec": {
   "display_name": "Python 3",
   "language": "python",
   "name": "python3"
  },
  "language_info": {
   "codemirror_mode": {
    "name": "ipython",
    "version": 3
   },
   "file_extension": ".py",
   "mimetype": "text/x-python",
   "name": "python",
   "nbconvert_exporter": "python",
   "pygments_lexer": "ipython3",
   "version": "3.7.3"
  }
 },
 "nbformat": 4,
 "nbformat_minor": 2
}
