{
 "cells": [
  {
   "cell_type": "markdown",
   "metadata": {},
   "source": [
    "## linux上自动下载整个文件夹\n",
    "该note主要针对于从linux上，遍历目录，获取目录中全部文件名的方式，而后用迭代文件名的方式逐个取出文件。"
   ]
  },
  {
   "cell_type": "code",
   "execution_count": 1,
   "metadata": {},
   "outputs": [],
   "source": [
    "import paramiko\n",
    "from stat import S_ISDIR\n",
    "import os\n"
   ]
  },
  {
   "cell_type": "code",
   "execution_count": 20,
   "metadata": {},
   "outputs": [],
   "source": [
    "# 定义一个类，表示一台远端linux主机\n",
    "class Linux(object):\n",
    "    # 通过IP, 用户名，密码，超时时间初始化一个远程Linux主机\n",
    "    def __init__(self, ip, username, password, timeout=30):\n",
    "        self.ip = ip\n",
    "        self.username = username\n",
    "        self.password = password\n",
    "        self.timeout = timeout\n",
    "        # transport和chanel\n",
    "        self.t = ''\n",
    "        self.chan = ''\n",
    "        # 链接失败的重试次数\n",
    "        self.try_times = 3\n",
    "\n",
    "    # 调用该方法连接远程主机\n",
    "    def connect(self):\n",
    "         pass\n",
    "\n",
    "    # 断开连接\n",
    "    def close(self):\n",
    "        pass\n",
    "\n",
    "    # 发送要执行的命令\n",
    "    def send(self, cmd):\n",
    "        pass\n",
    "\n",
    "    # get单个文件\n",
    "    def sftp_get(self, remotefile, localfile):\n",
    "        t = paramiko.Transport(sock=(self.ip, 22))\n",
    "        t.connect(username=self.username, password=self.password)\n",
    "        sftp = paramiko.SFTPClient.from_transport(t)\n",
    "        sftp.get(remotefile, localfile)\n",
    "        t.close()\n",
    "\n",
    "    # put单个文件\n",
    "    def sftp_put(self, localfile, remotefile):\n",
    "        t = paramiko.Transport(sock=(self.ip, 22))\n",
    "        t.connect(username=self.username, password=self.password)\n",
    "        sftp = paramiko.SFTPClient.from_transport(t)\n",
    "        sftp.put(localfile, remotefile)\n",
    "        t.close()\n",
    "        \n",
    "    def __get_all_files_in_remote_dir(self, sftp, remote_dir):\n",
    "        #保存文件夹文件的列表\n",
    "        all_files = list()\n",
    "\n",
    "        #去掉最后的/如果有\n",
    "        if remote_dir[-1] == \"/\":\n",
    "            remote_dir = remote_dir[0:-1]\n",
    "\n",
    "        #获取目录下的所有文件\n",
    "        files = sftp.listdir_attr(remote_dir)\n",
    "        for x in files:\n",
    "            # remote_dir目录中每一个文件或目录的完整路径\n",
    "            filename = remote_dir + '/' + x.filename\n",
    "            # 如果是目录，则递归处理该目录，\n",
    "            # 这里用到了stat库中的S_ISDIR方法，与linux中的宏的名字完全一致\n",
    "            if S_ISDIR(x.st_mode):\n",
    "                all_files.extend(self.__get_all_files_in_remote_dir(sftp, filename))\n",
    "            else:\n",
    "                all_files.append(filename)\n",
    "        return all_files \n",
    "        \n",
    "    def sftp_get_dir(self, remote_dir, local_dir):\n",
    "        t = paramiko.Transport(sock=(self.ip, 22))\n",
    "        t.connect(username=self.username, password=self.password)\n",
    "        sftp = paramiko.SFTPClient.from_transport(t)\n",
    "\n",
    "         # 获取远端linux主机上指定目录及其子目录下的所有文件\n",
    "        all_files = self.__get_all_files_in_remote_dir(sftp, remote_dir)\n",
    "        # 依次get每一个文件\n",
    "        for x in all_files:\n",
    "            filename = x.split('/')[-1]\n",
    "            local_filename = os.path.join(local_dir, filename)\n",
    "            print('loading file {}, please wait'.format(filename) )\n",
    "            sftp.get(x, local_filename)\n",
    "            \n",
    "            \n",
    "    def sftp_remove_dir(self, remote_dir):\n",
    "        t = paramiko.Transport(sock=(self.ip, 22))\n",
    "        t.connect(username=self.username, password=self.password)\n",
    "        sftp = paramiko.SFTPClient.from_transport(t)\n",
    "\n",
    "         # 获取远端linux主机上指定目录及其子目录下的所有文件\n",
    "        all_files = self.__get_all_files_in_remote_dir(sftp, remote_dir)\n",
    "        # 依次remove每一个文件\n",
    "        for x in all_files:\n",
    "            filename = x.split('/')[-1]\n",
    "            \n",
    "            print('removing file {}, please wait'.format(filename) )\n",
    "            sftp.remove(x)\n"
   ]
  },
  {
   "cell_type": "code",
   "execution_count": 21,
   "metadata": {},
   "outputs": [
    {
     "name": "stdout",
     "output_type": "stream",
     "text": [
      "/Users/allen/Desktop/tensorflow/自动下载\n",
      "/Users/allen/Desktop/tensorflow/database/pictures\n"
     ]
    }
   ],
   "source": [
    "print(os.path.abspath(\"\"))\n",
    "path = \"/Users/allen/Desktop/tensorflow/database/pictures\"\n",
    "print(path)"
   ]
  },
  {
   "cell_type": "code",
   "execution_count": 22,
   "metadata": {},
   "outputs": [],
   "source": [
    "remote_path = '/home/pi/pictures'\n",
    "local_path = path\n",
    "host = Linux('192.168.43.197', 'pi', '123456')"
   ]
  },
  {
   "cell_type": "code",
   "execution_count": 28,
   "metadata": {},
   "outputs": [
    {
     "name": "stdout",
     "output_type": "stream",
     "text": [
      "loading file 2019-09-05_14-19-23.jpg, please wait\n",
      "loading file 2019-09-05_14-19-25.jpg, please wait\n",
      "loading file 2019-09-05_14-19-22.jpg, please wait\n",
      "loading file 2019-09-05_14-19-26.jpg, please wait\n",
      "loading file 2019-09-05_14-19-24.jpg, please wait\n"
     ]
    }
   ],
   "source": [
    "host.sftp_get_dir(remote_path, local_path)"
   ]
  },
  {
   "cell_type": "code",
   "execution_count": 29,
   "metadata": {},
   "outputs": [
    {
     "name": "stdout",
     "output_type": "stream",
     "text": [
      "removing file 2019-09-05_14-19-23.jpg, please wait\n",
      "removing file 2019-09-05_14-19-25.jpg, please wait\n",
      "removing file 2019-09-05_14-19-22.jpg, please wait\n",
      "removing file 2019-09-05_14-19-26.jpg, please wait\n",
      "removing file 2019-09-05_14-19-24.jpg, please wait\n"
     ]
    }
   ],
   "source": [
    "host.sftp_remove_dir(remote_path)"
   ]
  },
  {
   "cell_type": "code",
   "execution_count": null,
   "metadata": {},
   "outputs": [],
   "source": []
  },
  {
   "cell_type": "code",
   "execution_count": null,
   "metadata": {},
   "outputs": [],
   "source": []
  }
 ],
 "metadata": {
  "kernelspec": {
   "display_name": "Python 3",
   "language": "python",
   "name": "python3"
  },
  "language_info": {
   "codemirror_mode": {
    "name": "ipython",
    "version": 3
   },
   "file_extension": ".py",
   "mimetype": "text/x-python",
   "name": "python",
   "nbconvert_exporter": "python",
   "pygments_lexer": "ipython3",
   "version": "3.7.3"
  }
 },
 "nbformat": 4,
 "nbformat_minor": 2
}
