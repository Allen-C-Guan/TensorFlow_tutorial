{
 "cells": [
  {
   "cell_type": "code",
   "execution_count": 10,
   "metadata": {},
   "outputs": [
    {
     "name": "stdout",
     "output_type": "stream",
     "text": [
      "/Users/allen/Desktop/tensorflow/Untitled Folder\n"
     ]
    }
   ],
   "source": [
    "import os\n",
    "loc_path=os.path.abspath(\"\")\n",
    "print(loc_path)"
   ]
  },
  {
   "cell_type": "code",
   "execution_count": 13,
   "metadata": {},
   "outputs": [],
   "source": [
    "import paramiko\n",
    "\n",
    "#初始化链接\n",
    "#建立一个加密的管道\n",
    "scp=paramiko.Transport(('192.168.43.197',22))\n",
    "#建立连接\n",
    "scp.connect(username='pi',password='123456')\n",
    "\n",
    "\n",
    "#建立一个sftp客户端对象，通过ssh transport操作远程文件\n",
    "sftp=paramiko.SFTPClient.from_transport(scp)\n",
    "\n",
    "sftp.get('/home/pi/pictures/test.jpg',str(loc_path)+\"/test.jpg\")\n",
    "#第一个是linux的目录，第二个是local目录，无论那个目录，\n",
    "#目录不可以是directory必须是具体的文件\n",
    "\n",
    "#sftp.put('/root/crash-6.1.6.tar.gz','/tmp/crash-6.1.6.tar.gz')\n",
    "scp.close()"
   ]
  },
  {
   "cell_type": "code",
   "execution_count": null,
   "metadata": {},
   "outputs": [],
   "source": []
  }
 ],
 "metadata": {
  "kernelspec": {
   "display_name": "Python 3",
   "language": "python",
   "name": "python3"
  },
  "language_info": {
   "codemirror_mode": {
    "name": "ipython",
    "version": 3
   },
   "file_extension": ".py",
   "mimetype": "text/x-python",
   "name": "python",
   "nbconvert_exporter": "python",
   "pygments_lexer": "ipython3",
   "version": "3.7.3"
  }
 },
 "nbformat": 4,
 "nbformat_minor": 2
}
